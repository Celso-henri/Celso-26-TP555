{
 "cells": [
  {
   "cell_type": "code",
   "execution_count": 3,
   "metadata": {},
   "outputs": [],
   "source": [
    "# Import all necessary libraries.\n",
    "import numpy as np\n",
    "from scipy.special import erfc\n",
    "from sklearn.cluster import KMeans\n",
    "import matplotlib.pyplot as plt"
   ]
  },
  {
   "cell_type": "code",
   "execution_count": 4,
   "metadata": {},
   "outputs": [],
   "source": [
    "# Number of QPSK symbols to be transmitted.\n",
    "\n",
    "N = 100000"
   ]
  },
  {
   "cell_type": "code",
   "execution_count": 5,
   "metadata": {},
   "outputs": [],
   "source": [
    "#Instanciando um objeto da classe KMeans\n",
    "\n",
    "km_re = KMeans(n_clusters=4)\n",
    "km_im = KMeans(n_clusters=4)"
   ]
  },
  {
   "cell_type": "code",
   "execution_count": 6,
   "metadata": {},
   "outputs": [],
   "source": [
    "#Funções para encontrar a qual símbolo pertence uma amostra\n",
    "\n",
    "def mod(V):\n",
    "    ip = np.zeros((len(V),1),dtype=complex)\n",
    "    inc = 0\n",
    "    for v in V:\n",
    "        if(v==0):\n",
    "            ip[inc] = -1.0 - 1j*1.0\n",
    "        elif(v==1):\n",
    "            ip[inc] = -1.0 + 1j*1.0\n",
    "        elif(v==2):\n",
    "            ip[inc] = 1.0 - 1j*1.0\n",
    "        else:\n",
    "            ip[inc] = 1.0 + 1j*1.0\n",
    "        inc += 1\n",
    "    # Normalization of energy to 1.\n",
    "    s = (1/np.sqrt(2))*ip;\n",
    "    return s\n",
    "\n",
    "def demod(c):\n",
    "    c_seq = mod(np.array([0,1,2,3]))\n",
    "    c_seq = c_seq[:,0]\n",
    "    e = []\n",
    "    for i in range(0,len(c_seq)):\n",
    "        e.append(np.abs(c_seq[i] - c)**2)\n",
    "    return e.index(np.min(e))"
   ]
  },
  {
   "cell_type": "code",
   "execution_count": 7,
   "metadata": {},
   "outputs": [
    {
     "name": "stdout",
     "output_type": "stream",
     "text": [
      "Es/N0 dB: -2\n",
      "Es/N0 dB: 0\n",
      "Es/N0 dB: 2\n",
      "Es/N0 dB: 4\n",
      "Es/N0 dB: 6\n",
      "Es/N0 dB: 8\n",
      "Es/N0 dB: 10\n",
      "Es/N0 dB: 12\n",
      "Es/N0 dB: 14\n",
      "Es/N0 dB: 16\n",
      "Es/N0 dB: 18\n",
      "Es/N0 dB: 20\n"
     ]
    }
   ],
   "source": [
    "# Create Es/N0 vector.\n",
    "\n",
    "EsN0dB = np.arange(-2,22,2)\n",
    "ser_simu = np.zeros(len(EsN0dB))\n",
    "ser_theo = np.zeros(len(EsN0dB))\n",
    "\n",
    "for idx in range(0,len(EsN0dB)):\n",
    "    print('Es/N0 dB:', EsN0dB[idx])\n",
    "    EsN0Lin = 10.0**(-(EsN0dB[idx]/10.0))\n",
    "\n",
    "    # Generate N QPSK symbols.\n",
    "    ip =(2.0 * (np.random.rand(N, 1) >= 0.5) - 1.0) + 1j*(2.0 * (np.random.rand(N, 1) >= 0.5) - 1.0)\n",
    "\n",
    "    # Normalization of energy to 1.\n",
    "    s = (1/np.sqrt(2))*ip;\n",
    "    \n",
    "    # Generate noise vector with unitary variance.\n",
    "    noise = np.sqrt(1.0/2.0)*(np.random.randn(N, 1) + 1j*np.random.randn(N, 1))\n",
    "\n",
    "    # Pass symbols through AWGN channel.\n",
    "    y = s + np.sqrt(EsN0Lin)*noise\n",
    "\n",
    "    # Fit model for real part.\n",
    "    km_re.fit(y.real)\n",
    "\n",
    "    # Fit model for imaginary parts.\n",
    "    km_im.fit(y.imag)\n",
    "\n",
    "    # Prediction for real part.\n",
    "    detected_ip_re = km_re.predict(y.real).reshape(N, 1)\n",
    "\n",
    "    # Prediction for imaginary part.\n",
    "    detected_ip_im = km_im.predict(y.imag).reshape(N, 1)\n",
    "    \n",
    "    for i in range (0,N):\n",
    "        detected_ip_re[i] = demod(km_re.cluster_centers_[detected_ip_re[i]])\n",
    "        detected_ip_im[i] = demod(km_im.cluster_centers_[detected_ip_im[i]])\n",
    "        ip.real[i] = demod(ip.real[i])\n",
    "        ip.imag[i] = demod(ip.imag[i])\n",
    "    \n",
    "    # Simulated QPSK BER.\n",
    "    error_re = (ip.real != detected_ip_re)\n",
    "    error_im = (ip.imag != detected_ip_im)\n",
    "    error = 0;\n",
    "    for i in range(0, N):\n",
    "        if(error_re[i]==True or error_im[i]==True):\n",
    "            error = error + 1\n",
    "            \n",
    "    ser_simu[idx] = 1.0 * error / N\n",
    "    \n",
    "    # Theoretical BPSK BER.\n",
    "    ser_theo[idx] = erfc( np.sqrt( 0.5*(10.0**(EsN0dB[idx]/10.0)) ) ) - (1/4)*(erfc(np.sqrt(0.5*(10.0**(EsN0dB[idx]/10.0)))))**2.0"
   ]
  },
  {
   "cell_type": "code",
   "execution_count": 9,
   "metadata": {},
   "outputs": [
    {
     "data": {
      "image/png": "[encoded data removed]",
      "text/plain": [
       "<Figure size 504x504 with 1 Axes>"
      ]
     },
     "metadata": {
      "needs_background": "light"
     },
     "output_type": "display_data"
    }
   ],
   "source": [
    "# Plot Es/N0 versus BER values.\n",
    "fig = plt.figure(figsize=(7,7))\n",
    "plt.plot(EsN0dB, ser_theo, label='theoretical')\n",
    "plt.plot(EsN0dB, ser_simu, 'ro', label='simulated')\n",
    "plt.xscale('linear')\n",
    "plt.yscale('log')\n",
    "plt.xlabel('Es/N0 [dB]')\n",
    "plt.ylabel('SER')\n",
    "plt.grid(True)\n",
    "plt.title('QPSK detection')\n",
    "plt.legend()\n",
    "plt.xlim([-2, 22])\n",
    "plt.ylim([1e-5, 1])\n",
    "plt.show()"
   ]
  },
  {
   "cell_type": "code",
   "execution_count": null,
   "metadata": {},
   "outputs": [],
   "source": []
  }
 ],
 "metadata": {
  "kernelspec": {
   "display_name": "Python 3",
   "language": "python",
   "name": "python3"
  },
  "language_info": {
   "codemirror_mode": {
    "name": "ipython",
    "version": 3
   },
   "file_extension": ".py",
   "mimetype": "text/x-python",
   "name": "python",
   "nbconvert_exporter": "python",
   "pygments_lexer": "ipython3",
   "version": "3.8.3"
  }
 },
 "nbformat": 4,
 "nbformat_minor": 2
}
