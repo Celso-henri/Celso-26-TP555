{
 "cells": [
  {
   "cell_type": "markdown",
   "metadata": {},
   "source": [
    "# TP555 - AI/ML\n",
    "# Lista de Exercícios #1"
   ]
  },
  {
   "cell_type": "markdown",
   "metadata": {},
   "source": [
    "## 1. Defina com suas próprias palavras:\n",
    "\n",
    "a. Inteligência.\n",
    "\n",
    "<p style = \"background-color: black; color: white\"> Popularmente trata-se a inteligência muitas vezes definida como: a habilidade mental para aprender e aplicar o conhecimento aprendido para manipular seu ambiente, bem como a capacidade de raciocinar e ter pensamento abstrato. Outras definições de inteligência incluem adaptação a um novo ambiente ou a mudanças no ambiente atual, a capacidade de avaliar e julgar, a capacidade de compreender ideias complexas. </p>\n",
    "\n",
    "b. Inteligência artificial.\n",
    "\n",
    "<p style = \"background-color: black; color: white\">Inteligência Artificial (IA) é uma parte da ciência da computação que elaboram dispositivos que simulem a capacidade humana de raciocinar, perceber, tomar decisões e resolver problemas. </p>\n",
    "\n",
    "c. Aprendizado de máquina.\n",
    "\n",
    "<p style = \"background-color: black; color: white\"> O aprendizado de máquina pode ser definido como: a ciência de programar computadores para que eles possam aprender com os dados. \n",
    "Alguns autores definem como sendo: o campo de estudo que dá aos computadores a capacidade de aprender sem serem explicitamente programados.  </p>"
   ]
  },
  {
   "cell_type": "markdown",
   "metadata": {},
   "source": [
    "## 2. Diz-se que um programa de computador aprende com a experiência E com relação a alguma tarefa T e alguma medida de desempenho D , se seu desempenho em T , medido por D , melhorar com a experiência E . Suponha que um algoritmo de aprendizado seja alimentado com muitos dados climáticos históricos, e aprenda a prever o tempo. Qual seria uma escolha razoável para D ?\n",
    "\n",
    "  a. A probabilidade de prever corretamente o tempo de uma data futura. <p style = \"background-color: black; color: white\">   Dado que o aprendizado de máquina supervisionado prever uma variável dependente a partir de uma lista de variáveis independentes a resposta correta seria a (a).</p>\n",
    "\n",
    "  b. A tarefa de previsão do tempo.\n",
    "\n",
    "  c. O processo do algoritmo que examina uma grande quantidade de dados climáticos históricos.\n",
    "\n",
    "  d. Nenhum das alternativas anteriores.\n"
   ]
  },
  {
   "cell_type": "markdown",
   "metadata": {},
   "source": [
    "## 3. Diz-se que um programa de computador aprende com a experiência E com relação a alguma tarefa T e alguma medida de desempenho D , se seu desempenho em T , medido por D , melhorar com a experiência E . Suponha que você esteja trabalhando numa agência meteorológica e deseje treinar um algoritmo de aprendizado com dados climáticos históricos para que este preveja o tempo. Neste caso, o que seriam T , E ?\n",
    "\n",
    "\n",
    "<p style = \"background-color: black; color: white\">T seria a tarefa de verificar as condições climáticas em todos os dias do ano.</p>\n",
    "\n",
    "<p style = \"background-color: black; color: white\">E seria a capacidade da máquina examinar os dados climáticos históricos.</p>"
   ]
  },
  {
   "cell_type": "markdown",
   "metadata": {},
   "source": [
    "## 4. Suponha que você esteja trabalhando em uma agência meteorológica com previsão do tempo, e que a agência faça uma das três previsões para o clima de cada dia: ensolarado , nublado ou chuvoso . Você deseja usar um algoritmo de aprendizado para prever o tempo de amanhã. Você trataria essa tarefa como uma tarefa de classificação ou de regressão ? Justifique sua escolha.\n",
    "\n",
    "\n",
    "<p style = \"background-color: black; color: white\"> Classificação. Dado que este algoritmo é treinado com muitos exemplos já coletados e possui um número finito de amostras.</p>\n",
    "\n",
    "\n"
   ]
  },
  {
   "cell_type": "markdown",
   "metadata": {},
   "source": [
    "## 5. Suponha que você esteja trabalhando em uma empresa de investimentos na previsão do mercado de ações e gostaria de prever o preço de uma determinada ação amanhã (medido em reais). Você deseja usar um algoritmo de aprendizado para isso. Você trataria essa tarefa como uma tarefa de classificação de regressão ? Justifique sua escolha.\n",
    "\n",
    "<p style = \"background-color: black; color: white\"> Regressão. Dado que para prever um valor numérico alvo, como o preço de uma ação, dado um conjunto de características (preço do dólar, pontos bovespa, etc.) chamado de preditores.</p>"
   ]
  },
  {
   "cell_type": "markdown",
   "metadata": {},
   "source": [
    "## 6. Que tipo de algoritmo de aprendizado de máquina você usaria para permitir que um robô andasse em vários terrenos desconhecidos? Dica : o robô precisa, através de sensores, entender o estado do terreno (buracos, paredes, subidas íngremes, etc.) e baseado neste estado executar ações (se mover para frente/trás, esquerda/direita) e dependendo do resultado dessas ações decidir quais são as ações corretas para que ele ande sem problemas pelo terreno.\n",
    "\n",
    "\n",
    "<p style = \"background-color: black; color: white\"> O algoritmo de aprendizado por reforço seria utilizado, tendo em vista que o robô necessitaria de condições de tentativa e erro.</p>\n",
    "\n"
   ]
  },
  {
   "cell_type": "markdown",
   "metadata": {},
   "source": [
    "## 7. Qual tipo de algoritmo de aprendizado de máquina você usaria para segmentar clientes de uma grande empresa de e-commerce em vários grupos caso\n",
    "\n",
    "a. você tivesse os grupos já definidos e quisesse treinar um modelo para alocar novos clientes a esses grupos.\n",
    "\n",
    "<p style = \"background-color: black; color: white\"> Aprendizagem não-supervisionada, dado que, exige que o sistema desenvolva suas próprias conclusões a partir de um determinado conjunto de dados.</p>\n",
    "\n",
    "\n",
    "b. ou quisesse descobrir diferentes tipos de grupos de clientes.\n",
    "\n",
    "<p style = \"background-color: black; color: white\"> Semi-supervisionada. usaria os grupos já rotulados para fazer inferências sobre qual dos grupos ou clientes estariam de acordo com o grupo do e-comerce. As melhores suposições seriam então devolvidas ao sistema para ajudá-lo a melhorar suas capacidades e o ciclo continuaria.</p>"
   ]
  },
  {
   "cell_type": "markdown",
   "metadata": {},
   "source": [
    "## 8. Imagine que você tivesse um algoritmo de aprendizado de máquina que foi treinado para detectar símbolos QPSK transmitidos através de um canal ruidoso. Esse algoritmo estaria realizando regressão ou classificação? Explique o porquê da sua resposta.\n",
    "\n",
    "\n",
    "<p style = \"background-color: black; color: white\"> Regressão. Dado que a modulação QPSK trata da quantidade de símbolos enviadas por bit, trabalhando então com variáveis aleatórias e com medida de retorno numérico como a magnitude do erro do vetor.</p>\n"
   ]
  },
  {
   "cell_type": "markdown",
   "metadata": {},
   "source": [
    "## 9. Descreva as vantagens e desvantagens dos treinamentos em batelada e em mini-batch.\n",
    "\n",
    "<p style = \"background-color: black; color: white\"> As principais vantagens dos métodos consiste em obter soluções do sistema de forma iterativa, simples e barata. Além de servir de base para vários algoritmos de segunda ordem que aceleram essa convergência (Método de Newton, Método do Gradiente Conjugado etc.).</p>\n",
    "    \n",
    "<p style = \"background-color: black; color: white\"> Para o método batelada ou batch: utiliza – em cada iteração – toda a amostra de treino. Como principais desvantagens para o batalada, como trata-se de um algoritmo útil para matrizes bem condicionadas e problemas fortemente convexos, frequentemente traz problemas, pois problemas interessantes não são fortemente convexos ou bem condicionados. Pode ser muito custoso computacionalmente, pois para cada atualização do conjunto de treinamento, precisamos ensinar o algoritmo desde o início. Inviabilizando, inclusive, qualquer método online; Outro aspecto é com relação à observações redundantes. Muitas vezes o conjunto completo de treinamento apresenta exemplos que pouco contribuem para atualização dos parâmetros.</p>\n",
    "\n",
    "<p style = \"background-color: black; color: white\"> Quanto ao mini-batch: em cada passo obtêm-se uma amostra do conjunto treino. Neste caso, o tamanho da amostra (chamado mini-batch size) será mais um parâmetro de estudo (essa é uma desvantagem do método), tipicamente, utiliza-se valores entre 2 e 100. A vantagem de se usar tal abordagem sobre o Batch é a velocidade em se atualizar os parâmetros.</p>\n",
    "\n"
   ]
  },
  {
   "cell_type": "markdown",
   "metadata": {},
   "source": [
    "## 10. Pesquise a literatura (Google, ieeexplore) sobre IA/ML e descubra se as seguintes tarefas podem ser solucionadas por computadores. Se as tarefas puderem ser solucionadas, descreva sucintamente o algoritmo/método de IA/ML utilizado e como o problema é solucionado. Utilize o link abaixo como ponto de partida para sua pesquisa, porém, não se prende a ele, use o Google, ieeexplore ou outros para a pesquisa:\n",
    "\n",
    "https://mlc.committees.comsoc.org/research-library/\n",
    "\n",
    "a. Alocação de recursos em redes móveis (e.g., LTE, 5G-NR, etc.).\n",
    "\n",
    "<p style = \"background-color: black; color: white\"> Diversos trabalhos tratam da utilização de machine learnig e IA aplicados para alocação de recusros da rede para usuários. Algoritmos de reforço foram utilizados, processos Markov locais e globais, aprendizagem supervisionada, aprendizagem profunda, método de transferência de células, dentre outros são técnicas exploradas para soluções em redes móveis. No artigo abaixo estas técnicas são apresentadas na revisão bibliográfica do artigo. O artigo propõe um método de condução semi-autônomo imaginado, onde os veículos serão conectados e/ou dirigidos autonomamente. Eles fizeram uso de ML para aprender sobre os padrões de atividade e mobilidade das entidades da camada do dispositivo. Tendo aprendido sobre a mobilidade e padrões de atividade dos usuários móveis, as operações de rede podem ser feito de forma proativa, em vez de mantê-los reativos. Isso vai melhorar diferentes indicadores-chave de desempenho, incluindo largura de banda / alocação de recursos, QoS minimizando os atrasos, etc.</p>\n",
    "\n",
    "<p style = \"background-color: black; color: white\">UR Mughal, M. Ahmed Khan, A. Beg e GQ Mughal, \"AI Enabled Resource Allocation in Future Mobile Networks\", NOMS 2020 - 2020 IEEE / IFIP Network Operations and Management Symposium , Budapeste, Hungria, 2020, pp. 1-6 , doi: 10.1109 / NOMS47738.2020.9110397. </p> \n",
    "\n",
    "b. Mitigação de colisões em redes sem-fio e móveis.\n",
    "\n",
    "<p style = \"background-color: black; color: white\">Spectrum Prediction Collision Avoidance (SPCA): um algoritmo que pode prever o comportamento de outras redes circundantes, usando aprendizado profundo supervisionado; e adaptar seu comportamento para aumentar o rendimento geral de sua própria Divisão de Tempo de Frequências Múltiplas de rede de acesso múltiplo, bem como das outras redes circundantes. Abaixo segue o artigo referente a esta técnica.</p>\n",
    "\n",
    "<p style = \"background-color: black; color: white\">R. Mennes, M. Claeys, FAP De Figueiredo, I. Jabandžić, I. Moerman e S. Latré, \"Deep Learning-Based Spectrum Prediction Collision Avoidance for Hybrid Wireless Environments,\" in IEEE Access , vol. 7, pp. 45818-45830, 2019, doi: 10.1109 / ACCESS.2019.2909398</p>\n",
    "\n",
    "c. Projeto e otimização de esquemas de modulação e codificação.\n",
    "<p style = \"background-color: black; color: white\">No artigo abaixo é proposto um novo framework de adaptação de link de baixo custo para sistemas de modulação espacial de múltiplas entradas e múltiplas (SM-MIMO) saídas baseado em machine learning. Primeiro os autores converteram os problemas de seleção de antena de transmissão e alocação de energia no SM-MIMO para aqueles baseados em predição baseada em dados, em vez de decisões convencionais de otimização. Em seguida, classificadores de aprendizado supervisionado, como os K-mais próximos vizinhos e algoritmos de máquina de vetores de suporte, foram desenvolvidos para obter suas soluções estatisticamente consistentes. Além disso, para comparação posterior, os autores integraram redes neurais profundas com esses esquemas SM-MIMO adaptativos e propuseram um novo classificador multi-rótulo baseado em redes neurais densas para avaliação de parâmetros de antena e potência. Abaixo segue o artigo. </p>\n",
    "\n",
    "<p style = \"background-color: black; color: white\">P. Yang, Y. Xiao, M. Xiao, Y. L. Guan, S. Li and W. Xiang, \"Adaptive Spatial Modulation MIMO Based on Machine Learning,\" in IEEE Journal on Selected Areas in Communications, vol. 37, no. 9, pp. 2117-2131, Sept. 2019, doi: 10.1109/JSAC.2019.2929404.</p>\n",
    "\n",
    "\n",
    "d. Sensoriamento espectral.\n",
    "\n",
    "<p style = \"background-color: black; color: white\">Para sensoriamento espectral, o artigo abaixo, propõe um novo framework baseado em aprendizado de máquina Bayesiano. Foi explorado a mobilidade de vários usuários secundários para coletar simultaneamente dados de detecção de espectro e derivar cooperativamente os estados do espectro global. Primeiro eles desenvolveram um novo modelo de aprendizagem não paramétrico Bayesiano, conhecido como processo beta modelo de Markov oculto, para capturar a correlação espaço-temporal nos dados do espectro coletados, onde o algoritmo modela a correlação estatística latente dentro dados de série temporal de cada usuário móvel, enquanto o processo beta realiza a cooperação entre vários usuários secundários. Abaixo segue o artigo. </p>\n",
    "\n",
    "<p style = \"background-color: black; color: white\"> Y. Xu, P. Cheng, Z. Chen, Y. Li and B. Vucetic, \"Mobile Collaborative Spectrum Sensing for Heterogeneous Networks: A Bayesian Machine Learning Approach,\" in IEEE Transactions on Signal Processing, vol. 66, no. 21, pp. 5634-5647, 1 Nov.1, 2018, doi: 10.1109/TSP.2018.2870379.</p>\n",
    "\n",
    "\n",
    "e. Posicionamento e localização em ambientes indoor.\n",
    "\n",
    "\n",
    "<p style = \"background-color: black; color: white\"> O artigo abaixo apresenta o projeto e a implementação de um sistema de microlocalização utilizando tecnologias de redes sem fio, como WiFi e Bluetooth Low Energy, baseado na Internet das Coisas. A solução consiste em um sistema de aquisição de parâmetros de sinal sem fio e a subsequente inferência do sistema de posição, principalmente serviços baseados em computação em nuvem. O mecanismo de localização proposto é baseado em um algoritmo de localização de aprendizado de máquina derivado do método de pegada da relação sinal-ruído e da intensidade do sinal recebido, que permitiu detectar a posição XY em um caso de regressão o as zonas de referência na classificação dentro de ambientes internos.  Abaixo segue o artigo.</p> \n",
    "\n",
    "<p style = \"background-color: black; color: white\">M. Terán, H. Carrillo and C. Parra, \"WLAN-BLE Based Indoor Positioning System using Machine Learning Cloud Services,\" 2018 IEEE 2nd Colombian Conference on Robotics and Automation (CCRA), Barranquilla, 2018, pp. 1-6, doi: 10.1109/CCRA.2018.8588127.</p>\n",
    "\n",
    "f. Roteamento de redes.\n",
    "\n",
    "<p style = \"background-color: black; color: white\">Na literatura, aparece alguns algoritmos baseados no aprendizado de máquina para propor soluções de roteamento de rede. O artigo que escolhi propõe um novo protocolo de roteamento para OppNets denominado MLProph, que usa algoritmos de aprendizado de máquina, baseado em árvore de decisão e redes neurais, para determinar a probabilidade de entregas bem-sucedidas. O modelo é treinado usando vários fatores, como o valor de previsibilidade herdado do esquema de roteamento PROPHET, popularidade do nó, consumo de energia do nó, velocidade e localização. Abaixo segue o artigo. </p> \n",
    "\n",
    "\n",
    "<p style = \"background-color: black; color: white\"> D. K. Sharma, S. K. Dhurandher, I. Woungang, R. K. Srivastava, A. Mohananey and J. J. P. C. Rodrigues, \"A Machine Learning-Based Protocol for Efficient Routing in Opportunistic Networks,\" in IEEE Systems Journal, vol. 12, no. 3, pp. 2207-2213, Sept. 2018, doi: 10.1109/JSYST.2016.2630923.  </p>\n",
    "\n",
    "g. Detecção e estimação de canal em sistemas de transmissão ópticos.\n",
    "\n",
    "<p style = \"background-color: black; color: white\"> Em comunicações móveis a estimativa de canal é muito dificil de ser implementada além de consumir tempo/energia tornando assim muito cara. A literatura busca por meio do aprendizado de máquina propor soluções que contornem os principais obstáculos citados anteriormente. O artigo abaixo propoe uma solução com novas combinações de aprendizagem profunda e estruturas convencionais (em diferentes partes, como formador de constelação, estimador e detector de canal) são apresentadas investigadas e comparadas sobre todos os regimes de turbulência atmosférica de fraco a forte (considerando o modelo de turbulência atmosférica Gamma-Gamma). Os resultados indicam que o aprendizado profundo pode fornecer um desempenho próximo o suficiente para o esquema de estimativa do canal  e é imune à variação da turbulência atmosférica. As soluções propostas baseadas em deep learning são de baixo custo, baixa complexidade e desempenho favorável. Consequentemente, eles são recomendados para estimativa de canal em sistemas de comunicação móvel. Abaixo segue o artigo. </p>\n",
    "\n",
    "<p style = \"background-color: black; color: white\"> AMIRABADI, Mohammad Ali et al. Deep Learning for channel estimation in FSO communication system. Optics Communications, v. 459, p. 124989, 2020.  </p>\n",
    "\n",
    "h. Pré-distorção digital de não-linearidades de front-ends de RF.\n",
    "\n",
    "<p style = \"background-color: black; color: white\"> Um dos maiores causadores de não-linearidades em front-ends de RF são os amplificadores de potência. No trabalho a baixo, o autor investigou os trade-offs entre linearidade, eficiência e\n",
    "largura de banda de linearização, conduzindo digitalmente as entradas  Amplificadores de potência Doherty separadamente. Os autores identificaram uma técnica de linearização baseada na física dos dispositivos, com objetivo de: reduzir os custos de hardware para a realização dos algoritmos digitais; linearizar o dispositivo levando em consideração os requisitos para alta eficiência e mostrar a reconfigurabilidade do dispositivo. Foi proposto um algoritmo inteligente, com base em tal conhecimento, para calibrar a pré-distorção digital diretamente na estação base, usando o mesmo hardware digital para a linearização </p>\n",
    "\n",
    "<p style = \"background-color: black; color: white\">  DONATI, Giovanni. Advanced Digital Predistortion Algorithms for modern Base-Station Front-Ends. A physically motivated approach. 2017. </p>\n",
    "\n",
    "i. Segurança e robustez em redes de comunicação.\n",
    "\n",
    "<p style = \"background-color: black; color: white\"> </p>\n",
    "\n",
    "\n",
    "j. Predição de bloqueios em sistemas de comunicação operando na faixa de ondas milimétricas.\n",
    "\n",
    "<p style = \"background-color: black; color: white\"> Neste artigo, os autores aproveitaram as ferramentas de aprendizado de máquina e propuseram uma nova solução para desafios de confiabilidade e latência em sistemas MIMO em mmWave. Na solução desenvolvida, as estações base aprendem como prever que um determinado link sofrerá bloqueio nos próximos quadros de tempo usando suas observações anteriores de vetores de formação de feixes adotados. Isso permite que a estação base em serviço entregue proativamente o usuário a outra estação base com um link LOS altamente provável. Os resultados da simulação mostraram que a estratégia desenvolvida com base no aprendizado profundo prevê com sucesso o bloqueio/transferência em cerca de 95% das vezes. Isso reduz a probabilidade de desconexão da sessão de comunicação, o que garante alta confiabilidade e baixa latência em sistemas mmWave móveis. Abaixo segue o artigo. </p>\n",
    "\n",
    "\n",
    "<p style = \"background-color: black; color: white\"> ALKHATEEB, Ahmed; BELTAGY, Iz; ALEX, Sam. Machine learning for reliable mmwave systems: Blockage prediction and proactive handoff. In: 2018 IEEE Global Conference on Signal and Information Processing (GlobalSIP). IEEE, 2018. p. 1055-1059. </p>\n",
    "\n",
    "\n",
    "k. Mitigação de não-linearidades em canais ópticos.\n",
    "\n",
    "<p style = \"background-color: black; color: white\"> A mitigação de não-linearidades torna-se importante principalmente em redes ópticas de longa distância. Dito isto na literatura apresenta-se algumas técnicas de aprendizado de máquina tais como: redes neurais e máquina de vetor de suporte como métodos de aprendizagem supervisionada e clustering K-means e algoritmo não supervisionado. Como esses algoritmos de ML têm sido aplicados para mitigação de não linearidade em sistemas de transmissão óptica e comparou-se o desempenho de suas aplicações sob as métricas de taxa de erro de bit (BER), fator Q e complexidade computacional.  Abaixo o artigo ilustra um resumo das técnicas discutidas assim. </p>\n",
    "\n",
    "<p style = \"background-color: black; color: white\"> Y. Liu, B. Yang and T. Xu, \"Machine Learning for Fiber Nonlinearity Mitigation in Long-Haul Coherent Optical Transmission Systems : Invited Paper,\" 2019 IEEE 11th International Conference on Advanced Infocomm Technology (ICAIT), Jinan, China, 2019, pp. 124-127, doi: 10.1109/ICAIT.2019.8935891. </p>\n",
    "\n",
    "\n",
    "l. Ajuste de parâmetros em redes ópticas elásticas."
   ]
  },
  {
   "cell_type": "markdown",
   "metadata": {},
   "source": [
    "## 11. Dentre todas estas tarefas, qual a mais te interessou? Caso você não tenha se interessado por nenhuma delas, qual seria uma tarefa que te interessaria? Encontre um artigo científico que aborde este tema de alguma forma e coloque na resposta a referência para este artigo.\n",
    "\n",
    "\n",
    "<p style = \"background-color: black; color: white\"> Me interessei em um artigo que trata sobre paradigmas de machine learning aplicados para redes 5G, pois trata de temas para aplicações em MIMO, fento e small-cells, redes heterogeneas e smart grids. </p>\n",
    "    \n",
    "<p style = \"background-color: black; color: white\">segue o link do artigo:  C. Jiang, H. Zhang, Y. Ren, Z. Han, K.-C. Chen and L. Hanzo, “Machine learning paradigms for next-generation wireless networks,” IEEE Wireless Communications, vol. 24, no. 2, pp. 98-105, April 2017.</p>\n"
   ]
  },
  {
   "cell_type": "code",
   "execution_count": null,
   "metadata": {},
   "outputs": [],
   "source": []
  }
 ],
 "metadata": {
  "kernelspec": {
   "display_name": "Python 3",
   "language": "python",
   "name": "python3"
  },
  "language_info": {
   "codemirror_mode": {
    "name": "ipython",
    "version": 3
   },
   "file_extension": ".py",
   "mimetype": "text/x-python",
   "name": "python",
   "nbconvert_exporter": "python",
   "pygments_lexer": "ipython3",
   "version": "3.8.3"
  }
 },
 "nbformat": 4,
 "nbformat_minor": 4
}
