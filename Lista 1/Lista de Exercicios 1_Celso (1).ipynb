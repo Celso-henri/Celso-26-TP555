{
 "cells": [
  {
   "cell_type": "markdown",
   "metadata": {},
   "source": [
    "# TP555 - AI/ML\n",
    "# Lista de Exercícios #1"
   ]
  },
  {
   "cell_type": "markdown",
   "metadata": {},
   "source": [
    "## 1. Defina com suas próprias palavras:\n",
    "\n",
    "a. Inteligência.\n",
    "\n",
    "<p style = \"background-color: black; color: white\"> Popularmente trata-se a inteligência muitas vezes definida como: a habilidade mental para aprender e aplicar o conhecimento aprendido para manipular seu ambiente, bem como a capacidade de raciocinar e ter pensamento abstrato. Outras definições de inteligência incluem adaptação a um novo ambiente ou a mudanças no ambiente atual, a capacidade de avaliar e julgar, a capacidade de compreender ideias complexas. </p>\n",
    "\n",
    "b. Inteligência artificial.\n",
    "\n",
    "<p style = \"background-color: black; color: white\">Inteligência Artificial (IA) é uma parte da ciência da computação que elaboram dispositivos que simulem a capacidade humana de raciocinar, perceber, tomar decisões e resolver problemas. </p>\n",
    "\n",
    "c. Aprendizado de máquina.\n",
    "\n",
    "<p style = \"background-color: black; color: white\"> O aprendizado de máquina pode ser definido como: a ciência de programar computadores para que eles possam aprender com os dados. \n",
    "Alguns autores definem como sendo: o campo de estudo que dá aos computadores a capacidade de aprender sem serem explicitamente programados.  </p>"
   ]
  },
  {
   "cell_type": "markdown",
   "metadata": {},
   "source": [
    "## 2. Diz-se que um programa de computador aprende com a experiência E com relação a alguma tarefa T e alguma medida de desempenho D , se seu desempenho em T , medido por D , melhorar com a experiência E . Suponha que um algoritmo de aprendizado seja alimentado com muitos dados climáticos históricos, e aprenda a prever o tempo. Qual seria uma escolha razoável para D ?\n",
    "\n",
    "  a. A probabilidade de prever corretamente o tempo de uma data futura. <p style = \"background-color: black; color: white\">   Dado que o aprendizado de máquina supervisionado prever uma variável dependente a partir de uma lista de variáveis independentes a resposta correta seria a (a).</p>\n",
    "\n",
    "  b. A tarefa de previsão do tempo.\n",
    "\n",
    "  c. O processo do algoritmo que examina uma grande quantidade de dados climáticos históricos.\n",
    "\n",
    "  d. Nenhum das alternativas anteriores.\n"
   ]
  },
  {
   "cell_type": "markdown",
   "metadata": {},
   "source": [
    "## 3. Diz-se que um programa de computador aprende com a experiência E com relação a alguma tarefa T e alguma medida de desempenho D , se seu desempenho em T , medido por D , melhorar com a experiência E . Suponha que você esteja trabalhando numa agência meteorológica e deseje treinar um algoritmo de aprendizado com dados climáticos históricos para que este preveja o tempo. Neste caso, o que seriam T , E ?\n",
    "\n",
    "\n",
    "<p style = \"background-color: black; color: white\">T seria a tarefa de verificar as condições climáticas em todos os dias do ano.</p>\n",
    "\n",
    "<p style = \"background-color: black; color: white\">E seria a capacidade da máquina examinar os dados climáticos históricos.</p>"
   ]
  },
  {
   "cell_type": "markdown",
   "metadata": {},
   "source": [
    "## 4. Suponha que você esteja trabalhando em uma agência meteorológica com previsão do tempo, e que a agência faça uma das três previsões para o clima de cada dia: ensolarado , nublado ou chuvoso . Você deseja usar um algoritmo de aprendizado para prever o tempo de amanhã. Você trataria essa tarefa como uma tarefa de classificação ou de regressão ? Justifique sua escolha.\n",
    "\n",
    "\n",
    "<p style = \"background-color: black; color: white\"> Classificação. Dado que este algoritmo é treinado com muitos exemplos já coletados e possui um número finito de amostras.</p>\n",
    "\n",
    "\n"
   ]
  },
  {
   "cell_type": "markdown",
   "metadata": {},
   "source": [
    "## 5. Suponha que você esteja trabalhando em uma empresa de investimentos na previsão do mercado de ações e gostaria de prever o preço de uma determinada ação amanhã (medido em reais). Você deseja usar um algoritmo de aprendizado para isso. Você trataria essa tarefa como uma tarefa de classificação de regressão ? Justifique sua escolha.\n",
    "\n",
    "<p style = \"background-color: black; color: white\"> Regressão. Dado que para prever um valor numérico alvo, como o preço de uma ação, dado um conjunto de características (preço do dólar, pontos bovespa, etc.) chamado de preditores.</p>"
   ]
  },
  {
   "cell_type": "markdown",
   "metadata": {},
   "source": [
    "## 6. Que tipo de algoritmo de aprendizado de máquina você usaria para permitir que um robô andasse em vários terrenos desconhecidos? Dica : o robô precisa, através de sensores, entender o estado do terreno (buracos, paredes, subidas íngremes, etc.) e baseado neste estado executar ações (se mover para frente/trás, esquerda/direita) e dependendo do resultado dessas ações decidir quais são as ações corretas para que ele ande sem problemas pelo terreno.\n",
    "\n",
    "\n",
    "<p style = \"background-color: black; color: white\"> O algoritmo de aprendizado por reforço seria utilizado, tendo em vista que o robô necessitaria de condições de tentativa e erro.</p>\n",
    "\n"
   ]
  },
  {
   "cell_type": "markdown",
   "metadata": {},
   "source": [
    "## 7. Qual tipo de algoritmo de aprendizado de máquina você usaria para segmentar clientes de uma grande empresa de e-commerce em vários grupos caso\n",
    "\n",
    "a. você tivesse os grupos já definidos e quisesse treinar um modelo para alocar novos clientes a esses grupos.\n",
    "\n",
    "<p style = \"background-color: black; color: white\"> Aprendizagem não-supervisionada, dado que, exige que o sistema desenvolva suas próprias conclusões a partir de um determinado conjunto de dados.</p>\n",
    "\n",
    "\n",
    "b. ou quisesse descobrir diferentes tipos de grupos de clientes.\n",
    "\n",
    "<p style = \"background-color: black; color: white\"> Semi-supervisionada. usaria os grupos já rotulados para fazer inferências sobre qual dos grupos ou clientes estariam de acordo com o grupo do e-comerce. As melhores suposições seriam então devolvidas ao sistema para ajudá-lo a melhorar suas capacidades e o ciclo continuaria.</p>"
   ]
  },
  {
   "cell_type": "markdown",
   "metadata": {},
   "source": [
    "## 8. Imagine que você tivesse um algoritmo de aprendizado de máquina que foi treinado para detectar símbolos QPSK transmitidos através de um canal ruidoso. Esse algoritmo estaria realizando regressão ou classificação? Explique o porquê da sua resposta.\n",
    "\n",
    "\n",
    "<p style = \"background-color: black; color: white\"> Regressão. Dado que a modulação QPSK trata da quantidade de símbolos enviadas por bit, trabalhando então com variáveis aleatórias e com medida de retorno numérico como a magnitude do erro do vetor.</p>\n"
   ]
  },
  {
   "cell_type": "markdown",
   "metadata": {},
   "source": [
    "## 9. Descreva as vantagens e desvantagens dos treinamentos em batelada e em mini-batch.\n",
    "\n",
    "<p style = \"background-color: black; color: white\"> As principais vantagens dos métodos consiste em obter soluções do sistema de forma iterativa, simples e barata. Além de servir de base para vários algoritmos de segunda ordem que aceleram essa convergência (Método de Newton, Método do Gradiente Conjugado etc.).</p>\n",
    "    \n",
    "<p style = \"background-color: black; color: white\"> Para o método batelada ou batch: utiliza – em cada iteração – toda a amostra de treino. Como principais desvantagens para o batalada, como trata-se de um algoritmo útil para matrizes bem condicionadas e problemas fortemente convexos, frequentemente traz problemas, pois problemas interessantes não são fortemente convexos ou bem condicionados. Pode ser muito custoso computacionalmente, pois para cada atualização do conjunto de treinamento, precisamos ensinar o algoritmo desde o início. Inviabilizando, inclusive, qualquer método online; Outro aspecto é com relação à observações redundantes. Muitas vezes o conjunto completo de treinamento apresenta exemplos que pouco contribuem para atualização dos parâmetros.</p>\n",
    "\n",
    "<p style = \"background-color: black; color: white\"> Quanto ao mini-batch: em cada passo obtêm-se uma amostra do conjunto treino. Neste caso, o tamanho da amostra (chamado mini-batch size) será mais um parâmetro de estudo (essa é uma desvantagem do método), tipicamente, utiliza-se valores entre 2 e 100. A vantagem de se usar tal abordagem sobre o Batch é a velocidade em se atualizar os parâmetros.</p>\n",
    "\n"
   ]
  },
  {
   "cell_type": "markdown",
   "metadata": {},
   "source": [
    "## 10. Pesquise a literatura (Google, ieeexplore) sobre IA/ML e descubra se as seguintes tarefas podem ser solucionadas por computadores. Se as tarefas puderem ser solucionadas, descreva sucintamente o algoritmo/método de IA/ML utilizado e como o problema é solucionado. Utilize o link abaixo como ponto de partida para sua pesquisa, porém, não se prende a ele, use o Google, ieeexplore ou outros para a pesquisa:\n",
    "\n",
    "https://mlc.committees.comsoc.org/research-library/\n",
    "\n",
    "a. Alocação de recursos em redes móveis (e.g., LTE, 5G-NR, etc.).\n",
    "\n",
    "<p style = \"background-color: black; color: white\"> É possível criar um algoritmo de aprendizado supervisionado por classificação que seja possível classificar as redes móveis para que possamos realizar a alocação de recursos.</p> \n",
    "\n",
    "b. Mitigação de colisões em redes sem-fio e móveis.\n",
    "\n",
    "<p style = \"background-color: black; color: white\">É possível criar um algoritmo onde a máquina possa aprender quando uma colisão ocorre através de uma sequência de treinamentos.</p>\n",
    "\n",
    "c. Projeto e otimização de esquemas de modulação e codificação.\n",
    "<p style = \"background-color: black; color: white\">A partir do uso de um esquema de aprendizado semi supervisionado de máquinas é possível separar os esquemas de modulação e codificação por um método de classificação e após treinar a máquina para encaixar cada caso em um determinado esquema. </p>\n",
    "\n",
    "\n",
    "d. Sensoriamento espectral.\n",
    "\n",
    "<p style = \"background-color: black; color: white\">A partir de um treinamento de máquina para identificar o estado de um canal de comunicação é possível treinar a máquina para classificar o canal e utilizar um algoritmo de sensoriamento espectral mais adequado. </p>\n",
    "\n",
    "\n",
    "e. Posicionamento e localização em ambientes indoor.\n",
    "\n",
    "\n",
    "<p style = \"background-color: black; color: white\"> Pode-se utilizar um algoritmo de aprendizado por reforço que irá por tentativa e erro estudar o ambiente e tirar suas próprias conclusões. Logo em seguida irá ser capaz de posicionar e localizar qualquer objeto dentro de um ambiente.</p> \n",
    "\n",
    "f. Roteamento de redes.\n",
    "\n",
    "<p style = \"background-color: black; color: white\">Em roteamento de redes é possível criar um algoritmo que classifica todos os possíveis caminhos entre os nós de uma rede para encaminhar um pacote da origem ao destino e verificar qual é o caminho de menor custo e treinar a máquina a identificar esses caminnhos. </p> \n",
    "\n",
    "\n",
    "g. Detecção e estimação de canal em sistemas de transmissão ópticos.\n",
    "\n",
    "<p style = \"background-color: black; color: white\"> É possível de se implementar um algoritmo de aprendizado cujo a máquina aprenda as características de um canal qualquer de comunicação e por experiencias anteriores possa ser capaz de estimar o canal. </p>\n",
    "\n",
    "h. Pré-distorção digital de não-linearidades de front-ends de RF.\n",
    "\n",
    "<p style = \"background-color: black; color: white\"> È possível de implementar algoritmo de aprendizado de máquina capaz de identificar as não linearidades de front- end para que se possa realizar uma pré distorção digital do mesmo. </p>\n",
    "\n",
    "i. Segurança e robustez em redes de comunicação.\n",
    "\n",
    "<p style = \"background-color: black; color: white\"> È possível de implementar algoritmo de aprendizado de máquina capaz de identificar as possíveis ameaças a segurança de uma rede de comunicação e treina-la a poder tornar-se mais robusta.</p>\n",
    "\n",
    "\n",
    "j. Predição de bloqueios em sistemas de comunicação operando na faixa de ondas milimétricas.\n",
    "\n",
    "\n",
    "\n",
    "\n",
    "k. Mitigação de não-linearidades em canais ópticos.\n",
    "\n",
    "\n",
    "\n",
    "\n",
    "\n",
    "\n",
    "l. Ajuste de parâmetros em redes ópticas elásticas."
   ]
  },
  {
   "cell_type": "markdown",
   "metadata": {},
   "source": [
    "## 11. Dentre todas estas tarefas, qual a mais te interessou? Caso você não tenha se interessado por nenhuma delas, qual seria uma tarefa que te interessaria? Encontre um artigo científico que aborde este tema de alguma forma e coloque na resposta a referência para este artigo.\n",
    "\n",
    "\n",
    "<p style = \"background-color: black; color: white\"> Me interessei em um artigo que trata sobre paradigmas de machine learning aplicados para redes 5G, pois trata de temas para aplicações em MIMO, fento e small-cells, redes heterogeneas e smart grids. </p>\n",
    "    \n",
    "<p style = \"background-color: black; color: white\">segue o link do artigo:  C. Jiang, H. Zhang, Y. Ren, Z. Han, K.-C. Chen and L. Hanzo, “Machine learning paradigms for next-generation wireless networks,” IEEE Wireless Communications, vol. 24, no. 2, pp. 98-105, April 2017.</p>\n"
   ]
  },
  {
   "cell_type": "code",
   "execution_count": null,
   "metadata": {},
   "outputs": [],
   "source": []
  }
 ],
 "metadata": {
  "kernelspec": {
   "display_name": "Python 3",
   "language": "python",
   "name": "python3"
  },
  "language_info": {
   "codemirror_mode": {
    "name": "ipython",
    "version": 3
   },
   "file_extension": ".py",
   "mimetype": "text/x-python",
   "name": "python",
   "nbconvert_exporter": "python",
   "pygments_lexer": "ipython3",
   "version": "3.8.3"
  }
 },
 "nbformat": 4,
 "nbformat_minor": 4
}
