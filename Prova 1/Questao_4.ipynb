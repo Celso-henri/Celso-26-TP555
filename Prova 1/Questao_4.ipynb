{
 "cells": [
  {
   "cell_type": "code",
   "execution_count": null,
   "metadata": {},
   "outputs": [],
   "source": [
    "# Declarando as bibliotecas necessárias.\n",
    "import numpy as np\n",
    "import pandas as pd\n",
    "import timeit\n",
    "import matplotlib.pyplot as plt\n",
    "from mpl_toolkits.mplot3d import Axes3D\n",
    "from matplotlib import cm\n",
    "from sklearn.preprocessing import PolynomialFeatures\n",
    "from sklearn.linear_model import LinearRegression\n",
    "from sklearn.preprocessing import StandardScaler\n",
    "from sklearn.pipeline import Pipeline\n",
    "from sklearn.metrics import mean_squared_error\n",
    "from sklearn.model_selection import train_test_split\n",
    "from sklearn.model_selection import cross_val_score\n",
    "\n",
    "%matplotlib notebook"
   ]
  },
  {
   "cell_type": "code",
   "execution_count": null,
   "metadata": {},
   "outputs": [],
   "source": [
    " Importando os arquivos do training.csv.\n",
    "\n",
    "df = pd.read_csv('sum_cosines.csv', header=None)\n",
    "x = df[0].to_numpy()\n",
    "y = df[1].to_numpy()\n",
    "fig = plt.figure(figsize=(5,5))\n",
    "plt.plot(x, y, 'b.') # Plotando o gráfico."
   ]
  },
  {
   "cell_type": "code",
   "execution_count": null,
   "metadata": {},
   "outputs": [],
   "source": [
    "# Implementando o holdout.\n",
    "starttime = timeit.default_timer()\n",
    "\n",
    "# Dividindo os dados de teste e validação.\n",
    "x_train, x_val, y_train, y_val = train_test_split(x, y, test_size=0.3, random_state=10)\n",
    "\n",
    "print('tamanho conjunto de treinamento:', len(y_train))\n",
    "print('tamanho conjunto de validação:', len(y_val))"
   ]
  },
  {
   "cell_type": "code",
   "execution_count": null,
   "metadata": {},
   "outputs": [],
   "source": [
    "# Polinomial degrees to be tested.\n",
    "degrees = [1, 2, 20]\n",
    "include_bias = True\n",
    "\n",
    "mean_vec = []\n",
    "std_vec = []\n",
    "for d in range(1,20) :\n",
    "    # Instantiate a polynomial.\n",
    "    poly_features = PolynomialFeatures(degree=d, include_bias=include_bias)\n",
    "    # Instantiate a scaler.\n",
    "    std_scaler = StandardScaler()\n",
    "    # Instantiate a linear regressor.\n",
    "    lin_reg = LinearRegression()"
   ]
  },
  {
   "cell_type": "code",
   "execution_count": null,
   "metadata": {},
   "outputs": [],
   "source": [
    "# Create a pipeline of actions.\n",
    "    polynomial_regression = Pipeline([(\"poly_features\", poly_features),(\"std_scaler\", std_scaler),(\"lin_reg\", lin_reg)])\n",
    "\n",
    "\n",
    "    polynomial_regression.fit(x_train, y_train)\n",
    "    \n",
    "    y_val_predict = polynomial_regression.predict(x_val)\n",
    "    \n",
    "    mean_vec.append(np.sqrt(mean_squared_error(y_val, y_val_predict)))\n",
    "\n",
    "print(\"Tempo de execução: %1.4f [s]\" % (timeit.default_timer() - starttime"
   ]
  },
  {
   "cell_type": "code",
   "execution_count": null,
   "metadata": {},
   "outputs": [],
   "source": [
    "# Plot results.\n",
    "plt.figure(figsize=(8, 5))\n",
    "plt.plot(range(1, 13), mean_vec,  label='Erro quadrático médio')\n",
    "plt.xlabel('Ordem do polinômio', fontsize=14)\n",
    "plt.ylabel('Erro quadrático Médio', fontsize=14)\n",
    "plt.xticks(range(0, 13, 2))\n",
    "plt.xlim([1, 12])\n",
    "plt.legend()\n",
    "plt.grid()\n",
    "# Save figure\n",
    "plt.savefig(\"holdout.png\", dpi=600)\n",
    "#Show the plot.\n",
    "plt.show()"
   ]
  }
 ],
 "metadata": {
  "kernelspec": {
   "display_name": "Python 3",
   "language": "python",
   "name": "python3"
  },
  "language_info": {
   "codemirror_mode": {
    "name": "ipython",
    "version": 3
   },
   "file_extension": ".py",
   "mimetype": "text/x-python",
   "name": "python",
   "nbconvert_exporter": "python",
   "pygments_lexer": "ipython3",
   "version": "3.8.3"
  }
 },
 "nbformat": 4,
 "nbformat_minor": 4
}
