{
 "cells": [
  {
   "cell_type": "code",
   "execution_count": 7,
   "metadata": {},
   "outputs": [],
   "source": [
    "#Celso Henrique\n",
    "# Import all necessary libraries.\n",
    "import numpy as np\n",
    "from scipy.special import erfc\n",
    "from sklearn.cluster import KMeans\n",
    "import matplotlib.pyplot as plt\n",
    "from sklearn.model_selection import train_test_split"
   ]
  },
  {
   "cell_type": "code",
   "execution_count": 8,
   "metadata": {},
   "outputs": [],
   "source": [
    "# Number of QPSK symbols to be transmitted.\n",
    "\n",
    "N = 1000"
   ]
  },
  {
   "cell_type": "code",
   "execution_count": 9,
   "metadata": {},
   "outputs": [],
   "source": [
    "mapping_table = [-3-3j, -3-1j, -3+3j, -3+1j, -1-3j, -1-1j, -1+3j, -1+1j, 3-3j, 3-1j, 3+3j, 3+1j, 1-3j,\n",
    "1-1j, 1+3j, 1+1j]\n",
    "\n",
    "def mod(bits):\n",
    "    symbols = np.zeros((len(bits),),dtype=complex)\n",
    "    for i in range(0,len(bits)): \n",
    "        symbols[i] = mapping_table[bits[i]]/np.sqrt(10)\n",
    "    return symbols\n",
    "\n",
    "def demod(c):\n",
    "    c_seq = mod(np.array([0,1,2,3,4,5,6,7,8,9,10,11,12,13,14,15]))\n",
    "    c_seq = c_seq.reshape(16,1)\n",
    "    c_seq = c_seq[:,0]\n",
    "    e = []\n",
    "    for i in range(0,len(c_seq)):\n",
    "        e.append(np.abs(c_seq[i] - c)**2)\n",
    "    return e.index(np.min(e))"
   ]
  },
  {
   "cell_type": "code",
   "execution_count": 10,
   "metadata": {},
   "outputs": [],
   "source": [
    "# Generate N 4-bit symbols.\n",
    "bits = np.random.randint(0,16,N)\n",
    "\n",
    "# Modulate the binary stream into 16QAM symbols.\n",
    "symbols = mod(bits)\n",
    "\n",
    "symbols = symbols.reshape(-1,1)\n"
   ]
  },
  {
   "cell_type": "code",
   "execution_count": 29,
   "metadata": {
    "scrolled": true
   },
   "outputs": [
    {
     "name": "stdout",
     "output_type": "stream",
     "text": [
      "Es/N0 dB: -2\n",
      "Es/N0 dB: 0\n",
      "Es/N0 dB: 2\n",
      "Es/N0 dB: 4\n",
      "Es/N0 dB: 6\n",
      "Es/N0 dB: 8\n",
      "Es/N0 dB: 10\n",
      "Es/N0 dB: 12\n",
      "Es/N0 dB: 14\n",
      "Es/N0 dB: 16\n",
      "Es/N0 dB: 18\n",
      "Es/N0 dB: 20\n"
     ]
    }
   ],
   "source": [
    "# Create Es/N0 vector.\n",
    "\n",
    "EsN0dB = np.arange(-2,22,2)\n",
    "ser_simu = np.zeros(len(EsN0dB))\n",
    "ser_theo = np.zeros(len(EsN0dB))\n",
    "\n",
    "for idx in range(0,len(EsN0dB)):\n",
    "    print('Es/N0 dB:', EsN0dB[idx])\n",
    "    EsN0Lin = 10.0**(-(EsN0dB[idx]/10.0))\n",
    "    erro=0\n",
    "    \n",
    "    # Generate noise vector with unitary variance.\n",
    "    noise = np.sqrt(1.0/2.0)*(np.random.randn(N, 1) + 1j*np.random.randn(N, 1))\n",
    "\n",
    "    # Pass symbols through AWGN channel.\n",
    "    y = symbols + np.sqrt(EsN0Lin)*noise\n",
    "\n",
    "    s_test, s_train, y_test, y_train, v_test, v_train = train_test_split(symbols, y, bits, random_state=20)\n",
    "\n",
    "    Y = np.c_[y_train.real,y_train.imag]\n",
    "    \n",
    "    kmm = KMeans(n_clusters=16, random_state=20)\n",
    "    kmm.fit(Y)\n",
    "    \n",
    "    detect = kmm.predict(np.c_[y_test.real,y_test.imag]) \n",
    "    \n",
    "    for i in range(0,len(v_test)):\n",
    "        predito = kmm.cluster_centers_[detect[i],0] + 1j*kmm.cluster_centers_[detect[i],1]\n",
    "        predito = demod(predito)\n",
    "        if((v_test[i] != predito)==True): \n",
    "            erro = erro + 1\n",
    "    \n",
    "    ser_simu[idx] = 1.0 * erro / N\n",
    "\n",
    "    \n",
    "    \n",
    "    M=16\n",
    "    k = np.sqrt(3/(2*(M-1)))\n",
    "    \n",
    "    # Theoretical BPSK BER.\n",
    "    ser_theo[idx] = 2*(1-1/np.sqrt(M))*erfc(k*np.sqrt(10.0**(EsN0dB[idx]/10.0)))-(1-(2/np.sqrt(M))+(1/M))*np.square(erfc(k*np.sqrt(10.0**(EsN0dB[idx]/10.0))))"
   ]
  },
  {
   "cell_type": "code",
   "execution_count": 30,
   "metadata": {},
   "outputs": [
    {
     "data": {
      "image/png": "[encoded data removed]",
      "text/plain": [
       "<Figure size 504x504 with 1 Axes>"
      ]
     },
     "metadata": {
      "needs_background": "light"
     },
     "output_type": "display_data"
    }
   ],
   "source": [
    "# Plot Es/N0 versus BER values.\n",
    "fig = plt.figure(figsize=(7,7))\n",
    "plt.plot(EsN0dB, ser_theo, label='theoretical')\n",
    "plt.plot(EsN0dB, ser_simu, 'ro', label='simulated')\n",
    "plt.xscale('linear')\n",
    "plt.yscale('log')\n",
    "plt.xlabel('Es/N0 [dB]')\n",
    "plt.ylabel('SER')\n",
    "plt.grid(True)\n",
    "plt.title('BPSK detection')\n",
    "plt.legend()\n",
    "plt.xlim([-2, 22])\n",
    "plt.ylim([1e-5, 1])\n",
    "plt.show()"
   ]
  },
  {
   "cell_type": "code",
   "execution_count": null,
   "metadata": {},
   "outputs": [],
   "source": []
  },
  {
   "cell_type": "code",
   "execution_count": null,
   "metadata": {},
   "outputs": [],
   "source": []
  }
 ],
 "metadata": {
  "kernelspec": {
   "display_name": "Python 3",
   "language": "python",
   "name": "python3"
  },
  "language_info": {
   "codemirror_mode": {
    "name": "ipython",
    "version": 3
   },
   "file_extension": ".py",
   "mimetype": "text/x-python",
   "name": "python",
   "nbconvert_exporter": "python",
   "pygments_lexer": "ipython3",
   "version": "3.8.3"
  }
 },
 "nbformat": 4,
 "nbformat_minor": 4
}
