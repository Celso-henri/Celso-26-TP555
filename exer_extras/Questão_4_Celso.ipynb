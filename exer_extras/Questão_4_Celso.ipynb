{
 "cells": [
  {
   "cell_type": "code",
   "execution_count": 67,
   "metadata": {},
   "outputs": [],
   "source": [
    "# Import all necessary libraries.\n",
    "import numpy as np\n",
    "from scipy.special import erfc\n",
    "from sklearn.naive_bayes import GaussianNB\n",
    "import matplotlib.pyplot as plt\n",
    "from sklearn.model_selection import train_test_split\n",
    "from sklearn.metrics import confusion_matrix, accuracy_score, roc_curve, auc, classification_report\n",
    "import seaborn as sns\n",
    "from matplotlib.colors import ListedColormap\n",
    "from sklearn.neighbors import KNeighborsClassifier"
   ]
  },
  {
   "cell_type": "code",
   "execution_count": 68,
   "metadata": {},
   "outputs": [],
   "source": [
    "#16QAM Symbols\n",
    "mapping_table = [-3-3j, -3-1j, -3+3j, -3+1j, -1-3j, -1-1j, -1+3j, -1+1j, 3-3j, 3-1j, 3+3j, 3+1j, 1-3j, 1-1j, 1+3j, 1+1j]\n",
    "\n",
    "#Function to modulate 16QAM symbols\n",
    "def mod(bits):\n",
    "    symbols = np.zeros((len(bits),),dtype=complex)\n",
    "    for i in range(0,len(bits)): symbols[i] = mapping_table[bits[i]]/np.sqrt(10)\n",
    "    return symbols"
   ]
  },
  {
   "cell_type": "code",
   "execution_count": 69,
   "metadata": {},
   "outputs": [],
   "source": [
    "# Instantiate a KNeighbors classifier for each one of the parts of a 16QAM symbol.\n",
    "knn = KNeighborsClassifier(n_neighbors=42, weights='distance')"
   ]
  },
  {
   "cell_type": "code",
   "execution_count": 70,
   "metadata": {},
   "outputs": [
    {
     "name": "stdout",
     "output_type": "stream",
     "text": [
      "Es/N0 dB: 0\n",
      "Es/N0 dB: 2\n",
      "Es/N0 dB: 4\n",
      "Es/N0 dB: 6\n",
      "Es/N0 dB: 8\n",
      "Es/N0 dB: 10\n",
      "Es/N0 dB: 12\n",
      "Es/N0 dB: 14\n",
      "Es/N0 dB: 16\n",
      "Es/N0 dB: 18\n",
      "Es/N0 dB: 20\n"
     ]
    }
   ],
   "source": [
    "N = 100000\n",
    "\n",
    "# Generate N 4-bit symbols.\n",
    "bits = np.random.randint(0,16,N)\n",
    "\n",
    "# Modulate the binary stream into 16QAM symbols.\n",
    "symbols = mod(bits)\n",
    "\n",
    "symbols = symbols.reshape(-1,1)\n",
    "EsN0dB = np.arange(0,22,2)\n",
    "\n",
    "ser_simu = np.zeros(len(EsN0dB))\n",
    "ser_theo = np.zeros(len(EsN0dB))\n",
    "\n",
    "for idx in range(0,len(EsN0dB)):\n",
    "    print('Es/N0 dB:', EsN0dB[idx])\n",
    "    EsN0Lin = 10.0**(-(EsN0dB[idx]/10.0))\n",
    "    \n",
    "    # Generate noise vector with unitary variance.\n",
    "    noise = np.sqrt(1.0/2.0)*(np.random.randn(N, 1) + 1j*np.random.randn(N, 1))\n",
    "    \n",
    "    # Pass symbols through AWGN channel.\n",
    "    symbols_noise = symbols + np.sqrt(EsN0Lin)*noise\n",
    "    SNr = symbols_noise.real\n",
    "    SNi = symbols_noise.imag\n",
    "    S_noise = np.c_[SNr, SNi]\n",
    "    \n",
    "    Sr = symbols.real\n",
    "    Si = symbols.imag\n",
    "    S = np.c_[Sr, Si]\n",
    "    \n",
    "    clf = KNeighborsClassifier(10, weights='distance')\n",
    "    \n",
    "    \n",
    "    clf.fit(S, bits)\n",
    "    bits_pred = clf.predict(S_noise)\n",
    "    bits_pred = bits_pred.reshape(N,1)\n",
    "    \n",
    "    error=0\n",
    "    for i in range(0,N):\n",
    "        if(bits_pred[i] == bits[i]):\n",
    "            error = error\n",
    "        else:\n",
    "            error = error + 1\n",
    "    \n",
    "    ser_simu[idx] = 1.0 * error / N\n",
    "\n",
    "    \n",
    "    # BER teórica 16 QAM.\n",
    "    M = 16\n",
    "    k = np.sqrt(3/(2*(M-1)))\n",
    "    ser_theo[idx] = (2*(1-(1/np.sqrt(M)))*erfc(k*np.sqrt(10.0**(EsN0dB[idx]/10.0))))-((1-(2/np.sqrt(M))+(1/np.sqrt(M)))*erfc(k*np.sqrt(10.0**(EsN0dB[idx]/10.0)))**2)\n",
    "    "
   ]
  },
  {
   "cell_type": "code",
   "execution_count": 71,
   "metadata": {
    "scrolled": true
   },
   "outputs": [
    {
     "name": "stdout",
     "output_type": "stream",
     "text": [
      "Es/N0:0 \t- SER: 7.404900e-01\n",
      "Es/N0:2 \t- SER: 6.741300e-01\n",
      "Es/N0:4 \t- SER: 5.871700e-01\n",
      "Es/N0:6 \t- SER: 4.819800e-01\n",
      "Es/N0:8 \t- SER: 3.534700e-01\n",
      "Es/N0:10 \t- SER: 2.223600e-01\n",
      "Es/N0:12 \t- SER: 1.100100e-01\n",
      "Es/N0:14 \t- SER: 3.783000e-02\n",
      "Es/N0:16 \t- SER: 7.580000e-03\n",
      "Es/N0:18 \t- SER: 5.000000e-04\n",
      "Es/N0:20 \t- SER: 1.000000e-05\n"
     ]
    }
   ],
   "source": [
    "for i in range(0,len(ser_simu)): print('Es/N0:%d \\t- SER: %e' % (EsN0dB[i], ser_simu[i]))"
   ]
  },
  {
   "cell_type": "code",
   "execution_count": 72,
   "metadata": {},
   "outputs": [
    {
     "data": {
      "image/png": "[encoded data removed]",
      "text/plain": [
       "<Figure size 504x504 with 1 Axes>"
      ]
     },
     "metadata": {
      "needs_background": "light"
     },
     "output_type": "display_data"
    }
   ],
   "source": [
    "fig = plt.figure(figsize=(7,7))\n",
    "plt.plot(EsN0dB, ser_theo, label='theoretical')\n",
    "plt.plot(EsN0dB, ser_simu, 'ro', label='simulated')\n",
    "plt.xscale('linear')\n",
    "plt.yscale('log')\n",
    "plt.xlabel('Es/N0 [dB]')\n",
    "plt.ylabel('SER')\n",
    "plt.grid(True)\n",
    "plt.title('16 QAM detection')\n",
    "plt.legend()\n",
    "plt.xlim([-2, 20])\n",
    "plt.ylim([1e-5, 1])\n",
    "plt.show()\n"
   ]
  },
  {
   "cell_type": "markdown",
   "metadata": {},
   "source": [
    "# C. Podemos dizer que a curva simulada se aproxima da curva teórica da SER?\n",
    "\n",
    "# Sim, a curva se aproxima muito bem."
   ]
  },
  {
   "cell_type": "code",
   "execution_count": null,
   "metadata": {},
   "outputs": [],
   "source": []
  }
 ],
 "metadata": {
  "kernelspec": {
   "display_name": "Python 3",
   "language": "python",
   "name": "python3"
  },
  "language_info": {
   "codemirror_mode": {
    "name": "ipython",
    "version": 3
   },
   "file_extension": ".py",
   "mimetype": "text/x-python",
   "name": "python",
   "nbconvert_exporter": "python",
   "pygments_lexer": "ipython3",
   "version": "3.8.3"
  }
 },
 "nbformat": 4,
 "nbformat_minor": 4
}
