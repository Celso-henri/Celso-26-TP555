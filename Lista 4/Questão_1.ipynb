{
 "cells": [
  {
   "cell_type": "code",
   "execution_count": 1,
   "metadata": {},
   "outputs": [
    {
     "name": "stderr",
     "output_type": "stream",
     "text": [
      "C:\\Users\\celso\\anaconda3\\lib\\site-packages\\sklearn\\utils\\deprecation.py:143: FutureWarning: The sklearn.linear_model.logistic module is  deprecated in version 0.22 and will be removed in version 0.24. The corresponding classes / functions should instead be imported from sklearn.linear_model. Anything that cannot be imported from sklearn.linear_model is now part of the private API.\n",
      "  warnings.warn(message, FutureWarning)\n"
     ]
    }
   ],
   "source": [
    "import numpy as np\n",
    "import matplotlib.pyplot as plt\n",
    "from sklearn.datasets import load_digits\n",
    "from sklearn.linear_model.logistic import LogisticRegression\n",
    "from sklearn.model_selection import train_test_split\n",
    "from sklearn.metrics import confusion_matrix, accuracy_score\n",
    "from sklearn.datasets import make_circles\n",
    "from sklearn.metrics import accuracy_score, roc_curve, auc\n",
    "from sklearn.metrics import classification_report\n",
    "from scipy.special import expit"
   ]
  },
  {
   "cell_type": "code",
   "execution_count": 2,
   "metadata": {},
   "outputs": [],
   "source": [
    "def error_function(x, a, y):    \n",
    "    h = expit(x.dot(a))\n",
    "    error = -(1/len(y))*np.sum( y.T.dot(np.log(h)) + (1-y).T.dot(np.log((1-h) )) )\n",
    "    return error\n",
    "\n",
    "def classifier(x, a):\n",
    "    h = expit(x.dot(a))\n",
    "    c = np.zeros((len(h), 1))\n",
    "    for i in range(0, len(h)):\n",
    "        if(h[i] >= 0.5):\n",
    "            c[i,0]=1.0\n",
    "    return c\n",
    "\n",
    "def predict_prob(x, a):\n",
    "    h1 = expit(x.dot(a))\n",
    "    h0 = 1 - h1\n",
    "    h = np.c_[h0, h1]\n",
    "    return h"
   ]
  },
  {
   "cell_type": "code",
   "execution_count": 3,
   "metadata": {},
   "outputs": [],
   "source": [
    "x1 = np.array([0.4299, 0.4478, 0.459, 0.8426, 1.0784, 1.4681, 1.4727, 1.8422, 2.014, 2.1838, 2.4452, 2.6426, 2.8786, 3.4615, 3.6067])\n",
    "\n",
    "x2 = np.array([1.3754, 0.5975, 2.6197, 3.662, 2.1051, 0.2585, 1.0807, 3.5898, 2.5221, 1.0768, 0.142, 3.6742,\n",
    "2.1396, 3.0697, 1.2022])\n",
    "\n",
    "y = np.array([0, 0, 0, 1, 0, 0, 0, 1, 1, 0, 0, 1, 1, 1, 1])\n",
    "y2 = y\n",
    "y = y.reshape(len(y), 1)\n",
    "X = np.c_[x1, x2]"
   ]
  },
  {
   "cell_type": "code",
   "execution_count": 4,
   "metadata": {},
   "outputs": [
    {
     "data": {
      "image/png": "[encoded data removed]",
      "text/plain": [
       "<Figure size 360x360 with 1 Axes>"
      ]
     },
     "metadata": {
      "needs_background": "light"
     },
     "output_type": "display_data"
    }
   ],
   "source": [
    "idx0 = np.argwhere(y2 == 0)\n",
    "idx1 = np.argwhere(y2 == 1)\n",
    "\n",
    "fig = plt.figure(figsize=(5,5))\n",
    "plt.plot(X[idx0,0], X[idx0,1], 'r^', markersize = 30, label='Class 0')\n",
    "plt.plot(X[idx1,0], X[idx1,1], 'bo', markersize = 30, label='Class 1')\n",
    "plt.xlabel('$x_1$')\n",
    "plt.ylabel('$x_2$')\n",
    "plt.grid()\n",
    "plt.xlim(0, 4)\n",
    "plt.ylim(0, 4)\n",
    "plt.show()"
   ]
  },
  {
   "cell_type": "code",
   "execution_count": 5,
   "metadata": {},
   "outputs": [],
   "source": [
    "# Batch gradient descent solution.\n",
    "\n",
    "x_train = np.c_[np.ones((len(x1), 1)), X]\n",
    "\n",
    "y_train = y\n",
    "# learning rate.\n",
    "alpha = 0.05\n",
    "# Maximum number of iterations.\n",
    "n_iterations = 1000\n",
    "\n",
    "# Random initialization of parameters.\n",
    "a = np.random.randn(x_train.shape[1],1)\n",
    "\n",
    "# Create array for storing error values.\n",
    "Jgd = np.zeros(n_iterations+1)\n",
    "\n",
    "# Calculate initial error.\n",
    "Jgd[0] = error_function(x_train, a, y_train)\n",
    "\n",
    "# Batch gradient-descent loop.\n",
    "minimum_val_error = float(\"inf\")\n",
    "iteration = 0\n",
    "error = 1\n",
    "while iteration < n_iterations:    \n",
    "    gradients = -1/len(y_train)*x_train.T.dot(y_train - expit(x_train.dot(a)) )\n",
    "    a = a - alpha * gradients\n",
    "    Jgd[iteration+1] = error_function(x_train, a, y_train)\n",
    "    error = np.abs(Jgd[iteration+1] - Jgd[iteration])\n",
    "    if(Jgd[iteration+1] < minimum_val_error):\n",
    "        minimum_val_error = Jgd[iteration+1]\n",
    "        a_min = a        \n",
    "    iteration = iteration + 1"
   ]
  },
  {
   "cell_type": "code",
   "execution_count": 6,
   "metadata": {},
   "outputs": [
    {
     "name": "stdout",
     "output_type": "stream",
     "text": [
      "[[-4.13144549]\n",
      " [ 1.04725611]\n",
      " [ 1.21217263]]\n"
     ]
    }
   ],
   "source": [
    "print(a)"
   ]
  },
  {
   "cell_type": "code",
   "execution_count": null,
   "metadata": {},
   "outputs": [],
   "source": []
  }
 ],
 "metadata": {
  "kernelspec": {
   "display_name": "Python 3",
   "language": "python",
   "name": "python3"
  },
  "language_info": {
   "codemirror_mode": {
    "name": "ipython",
    "version": 3
   },
   "file_extension": ".py",
   "mimetype": "text/x-python",
   "name": "python",
   "nbconvert_exporter": "python",
   "pygments_lexer": "ipython3",
   "version": "3.8.3"
  }
 },
 "nbformat": 4,
 "nbformat_minor": 2
}
