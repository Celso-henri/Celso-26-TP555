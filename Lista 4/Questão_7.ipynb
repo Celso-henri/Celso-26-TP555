{
 "cells": [
  {
   "cell_type": "code",
   "execution_count": 1,
   "metadata": {},
   "outputs": [],
   "source": [
    "# Import all necessary libraries.\n",
    "import numpy as np\n",
    "from scipy.special import erfc\n",
    "from sklearn.naive_bayes import GaussianNB\n",
    "import matplotlib.pyplot as plt"
   ]
  },
  {
   "cell_type": "code",
   "execution_count": 2,
   "metadata": {},
   "outputs": [],
   "source": [
    "# Number of QPSK symbols to be transmitted.\n",
    "N = 1000000"
   ]
  },
  {
   "cell_type": "code",
   "execution_count": 3,
   "metadata": {},
   "outputs": [],
   "source": [
    "# Instantiate a Gaussian naive Bayes classifier for each one of the parts of a QPSK symbol.\n",
    "gnb_re = GaussianNB()\n",
    "gnb_im = GaussianNB()"
   ]
  },
  {
   "cell_type": "code",
   "execution_count": 4,
   "metadata": {
    "scrolled": false
   },
   "outputs": [
    {
     "name": "stdout",
     "output_type": "stream",
     "text": [
      "Es/N0 dB: -2\n",
      "Es/N0 dB: 0\n",
      "Es/N0 dB: 2\n",
      "Es/N0 dB: 4\n",
      "Es/N0 dB: 6\n",
      "Es/N0 dB: 8\n",
      "Es/N0 dB: 10\n",
      "Es/N0 dB: 12\n",
      "Es/N0 dB: 14\n",
      "Es/N0 dB: 16\n",
      "Es/N0 dB: 18\n",
      "Es/N0 dB: 20\n"
     ]
    }
   ],
   "source": [
    "# Create Es/N0 vector.\n",
    "\n",
    "EsN0dB = np.arange(-2,22,2)\n",
    "ser_simu = np.zeros(len(EsN0dB))\n",
    "ser_theo = np.zeros(len(EsN0dB))\n",
    "\n",
    "for idx in range(0,len(EsN0dB)):\n",
    "    print('Es/N0 dB:', EsN0dB[idx])\n",
    "    EsN0Lin = 10.0**(-(EsN0dB[idx]/10.0))\n",
    "\n",
    "    # Generate N QPSK symbols.\n",
    "    ip =(2.0 * (np.random.rand(N, 1) >= 0.5) - 1.0) + 1j*(2.0 * (np.random.rand(N, 1) >= 0.5) - 1.0)\n",
    "\n",
    "    # Normalization of energy to 1.\n",
    "    s = (1/np.sqrt(2))*ip;\n",
    "    \n",
    "    # Generate noise vector with unitary variance.\n",
    "    noise = np.sqrt(1.0/2.0)*(np.random.randn(N, 1) + 1j*np.random.randn(N, 1))\n",
    "\n",
    "    # Pass symbols through AWGN channel.\n",
    "    y = s + np.sqrt(EsN0Lin)*noise\n",
    "\n",
    "    # Fit model for real part.\n",
    "    gnb_re.fit(y.real, ip.real.ravel())\n",
    "\n",
    "    # Fit model for imaginary parts.\n",
    "    gnb_im.fit(y.imag, ip.imag.ravel())\n",
    "\n",
    "    # Prediction for real part.\n",
    "    detected_ip_re = gnb_re.predict(y.real).reshape(N, 1)\n",
    "\n",
    "    # Prediction for imaginary part.\n",
    "    detected_ip_im = gnb_im.predict(y.imag).reshape(N, 1)\n",
    "    \n",
    "    # Simulated QPSK BER.\n",
    "    error_re = (ip.real != detected_ip_re)\n",
    "    error_im = (ip.imag != detected_ip_im)\n",
    "    error = 0;\n",
    "    for i in range(0, N):\n",
    "        if(error_re[i]==True or error_im[i]==True):\n",
    "            error = error + 1\n",
    "            \n",
    "    ser_simu[idx] = 1.0 * error / N\n",
    "    \n",
    "    # Theoretical BPSK BER.\n",
    "    ser_theo[idx] = erfc( np.sqrt( 0.5*(10.0**(EsN0dB[idx]/10.0)) ) ) - (1/4)*(erfc(np.sqrt(0.5*(10.0**(EsN0dB[idx]/10.0)))))**2.0"
   ]
  },
  {
   "cell_type": "code",
   "execution_count": 5,
   "metadata": {},
   "outputs": [
    {
     "name": "stdout",
     "output_type": "stream",
     "text": [
      "Es/N0:-2 \t- SER: 3.821970e-01\n",
      "Es/N0:0 \t- SER: 2.923270e-01\n",
      "Es/N0:2 \t- SER: 1.974570e-01\n",
      "Es/N0:4 \t- SER: 1.094490e-01\n",
      "Es/N0:6 \t- SER: 4.550600e-02\n",
      "Es/N0:8 \t- SER: 1.189700e-02\n",
      "Es/N0:10 \t- SER: 1.605000e-03\n",
      "Es/N0:12 \t- SER: 8.200000e-05\n",
      "Es/N0:14 \t- SER: 1.000000e-06\n",
      "Es/N0:16 \t- SER: 0.000000e+00\n",
      "Es/N0:18 \t- SER: 0.000000e+00\n",
      "Es/N0:20 \t- SER: 0.000000e+00\n"
     ]
    }
   ],
   "source": [
    "# Print Es/N0 versus BER values.\n",
    "for i in range(0,len(ser_simu)): print('Es/N0:%d \\t- SER: %e' % (EsN0dB[i], ser_simu[i]))"
   ]
  },
  {
   "cell_type": "code",
   "execution_count": 6,
   "metadata": {},
   "outputs": [
    {
     "data": {
      "image/png": "[encoded data removed]",
      "text/plain": [
       "<Figure size 504x504 with 1 Axes>"
      ]
     },
     "metadata": {
      "needs_background": "light"
     },
     "output_type": "display_data"
    }
   ],
   "source": [
    "# Plot Es/N0 versus BER values.\n",
    "fig = plt.figure(figsize=(7,7))\n",
    "plt.plot(EsN0dB, ser_theo, label='theoretical')\n",
    "plt.plot(EsN0dB, ser_simu, 'ro', label='simulated')\n",
    "plt.xscale('linear')\n",
    "plt.yscale('log')\n",
    "plt.xlabel('Es/N0 [dB]')\n",
    "plt.ylabel('SER')\n",
    "plt.grid(True)\n",
    "plt.title('BPSK detection')\n",
    "plt.legend()\n",
    "plt.xlim([-2, 22])\n",
    "plt.ylim([1e-5, 1])\n",
    "plt.show()"
   ]
  },
  {
   "cell_type": "code",
   "execution_count": null,
   "metadata": {},
   "outputs": [],
   "source": []
  }
 ],
 "metadata": {
  "kernelspec": {
   "display_name": "Python 3",
   "language": "python",
   "name": "python3"
  },
  "language_info": {
   "codemirror_mode": {
    "name": "ipython",
    "version": 3
   },
   "file_extension": ".py",
   "mimetype": "text/x-python",
   "name": "python",
   "nbconvert_exporter": "python",
   "pygments_lexer": "ipython3",
   "version": "3.8.3"
  }
 },
 "nbformat": 4,
 "nbformat_minor": 2
}
