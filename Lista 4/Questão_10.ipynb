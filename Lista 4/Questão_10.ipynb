{
 "cells": [
  {
   "cell_type": "code",
   "execution_count": 17,
   "metadata": {},
   "outputs": [],
   "source": [
    "# Import all necessary libraries.\n",
    "import pandas as pd\n",
    "import numpy as np\n",
    "from sklearn.naive_bayes import BernoulliNB\n",
    "from sklearn.naive_bayes import MultinomialNB\n",
    "from sklearn.feature_extraction.text import CountVectorizer\n",
    "from sklearn.model_selection import train_test_split\n",
    "from sklearn import metrics\n",
    "from sklearn.metrics import confusion_matrix\n",
    "from sklearn.metrics import accuracy_score, roc_curve, auc\n",
    "import seaborn as sns\n",
    "import matplotlib.pyplot as plt"
   ]
  },
  {
   "cell_type": "code",
   "execution_count": 18,
   "metadata": {},
   "outputs": [],
   "source": [
    "x_train = np.array(['Chinese Beijing Chinese',\n",
    "                   'Chinese Chinese Shanghai',\n",
    "                   'Chinese Macao',\n",
    "                   'Tokyo Japan Chinese'])\n",
    "\n",
    "y_train = np.array(['china','china','china','not china'])\n",
    "\n",
    "x_test = np.array(['Chinese Chinese Chinese Tokyo Japan'])"
   ]
  },
  {
   "cell_type": "code",
   "execution_count": 19,
   "metadata": {},
   "outputs": [],
   "source": [
    "# Instantiate a CountVectorizer object.\n",
    "vect = CountVectorizer(binary=True)"
   ]
  },
  {
   "cell_type": "code",
   "execution_count": 20,
   "metadata": {},
   "outputs": [
    {
     "name": "stdout",
     "output_type": "stream",
     "text": [
      "['beijing', 'chinese', 'japan', 'macao', 'shanghai', 'tokyo']\n",
      "[[1 1 0 0 0 0]\n",
      " [0 1 0 0 1 0]\n",
      " [0 1 0 1 0 0]\n",
      " [0 1 1 0 0 1]]\n"
     ]
    }
   ],
   "source": [
    "# Fit and transform X_train into x_train_dtm (document-term matrices - dtm).\n",
    "x_train_dtm = vect.fit_transform(x_train)\n",
    "\n",
    "print(vect.get_feature_names())\n",
    "print(x_train_dtm.toarray())"
   ]
  },
  {
   "cell_type": "code",
   "execution_count": 21,
   "metadata": {},
   "outputs": [
    {
     "name": "stdout",
     "output_type": "stream",
     "text": [
      "[[0 1 1 0 0 1]]\n"
     ]
    }
   ],
   "source": [
    "# Transform X_test into X_test_dtm.\n",
    "x_test_dtm = vect.transform(x_test)\n",
    "\n",
    "print(x_test_dtm.toarray())"
   ]
  },
  {
   "cell_type": "code",
   "execution_count": 22,
   "metadata": {},
   "outputs": [
    {
     "name": "stdout",
     "output_type": "stream",
     "text": [
      "['not china']\n",
      "[[0.19106679 0.80893321]]\n"
     ]
    }
   ],
   "source": [
    "# Instantiate a Bernoulli Naive Bayes model.\n",
    "model = BernoulliNB(binarize=None)\n",
    "# train the model using X_train_dtm\n",
    "model.fit(x_train_dtm, y_train)\n",
    "y_pred_class = model.predict(x_test_dtm)\n",
    "print(y_pred_class)\n",
    "print(model.predict_proba(x_test_dtm))"
   ]
  },
  {
   "cell_type": "code",
   "execution_count": 23,
   "metadata": {},
   "outputs": [
    {
     "name": "stdout",
     "output_type": "stream",
     "text": [
      "['beijing', 'chinese', 'japan', 'macao', 'shanghai', 'tokyo']\n",
      "[[1 2 0 0 0 0]\n",
      " [0 2 0 0 1 0]\n",
      " [0 1 0 1 0 0]\n",
      " [0 1 1 0 0 1]]\n"
     ]
    }
   ],
   "source": [
    "# Instantiate a CountVectorizer object.\n",
    "vect = CountVectorizer()\n",
    "# Fit and transform X_train into x_train_dtm (document-term matrices - dtm).\n",
    "x_train_dtm = vect.fit_transform(x_train)\n",
    "\n",
    "print(vect.get_feature_names())\n",
    "print(x_train_dtm.toarray())"
   ]
  },
  {
   "cell_type": "code",
   "execution_count": 24,
   "metadata": {},
   "outputs": [
    {
     "name": "stdout",
     "output_type": "stream",
     "text": [
      "[[0 3 1 0 0 1]]\n"
     ]
    },
    {
     "data": {
      "text/plain": [
       "MultinomialNB()"
      ]
     },
     "execution_count": 24,
     "metadata": {},
     "output_type": "execute_result"
    }
   ],
   "source": [
    "# Transform X_test into X_test_dtm.\n",
    "x_test_dtm = vect.transform(x_test)\n",
    "\n",
    "print(x_test_dtm.toarray())\n",
    "# Instantiate a Multinomial Naive Bayes model.\n",
    "model = MultinomialNB()\n",
    "# train the model using X_train_dtm\n",
    "model.fit(x_train_dtm, y_train)"
   ]
  },
  {
   "cell_type": "code",
   "execution_count": 25,
   "metadata": {},
   "outputs": [
    {
     "name": "stdout",
     "output_type": "stream",
     "text": [
      "['china']\n",
      "[[0.68975861 0.31024139]]\n"
     ]
    }
   ],
   "source": [
    "y_pred_class = model.predict(x_test_dtm)\n",
    "print(y_pred_class)\n",
    "print(model.predict_proba(x_test_dtm))"
   ]
  },
  {
   "cell_type": "code",
   "execution_count": null,
   "metadata": {},
   "outputs": [],
   "source": []
  }
 ],
 "metadata": {
  "kernelspec": {
   "display_name": "Python 3",
   "language": "python",
   "name": "python3"
  },
  "language_info": {
   "codemirror_mode": {
    "name": "ipython",
    "version": 3
   },
   "file_extension": ".py",
   "mimetype": "text/x-python",
   "name": "python",
   "nbconvert_exporter": "python",
   "pygments_lexer": "ipython3",
   "version": "3.8.3"
  }
 },
 "nbformat": 4,
 "nbformat_minor": 2
}
