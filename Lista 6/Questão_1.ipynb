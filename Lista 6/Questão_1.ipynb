{
 "cells": [
  {
   "cell_type": "code",
   "execution_count": 14,
   "metadata": {},
   "outputs": [],
   "source": [
    "# Import all necessary libraries.\n",
    "import numpy as np\n",
    "import matplotlib.pyplot as plt\n",
    "from matplotlib.colors import ListedColormap\n",
    "from sklearn.neighbors import KNeighborsClassifier\n",
    "from sklearn.model_selection import train_test_split\n",
    "from sklearn.datasets import make_blobs\n",
    "from sklearn.metrics import confusion_matrix, accuracy_score, roc_curve, auc, classification_report\n",
    "import seaborn as sns"
   ]
  },
  {
   "cell_type": "code",
   "execution_count": 15,
   "metadata": {},
   "outputs": [],
   "source": [
    "numberSamples = 9\n",
    "numberClass = 2\n",
    "\n",
    "x_test = [[4,7],[5,6],[3,4],[6,9],[6,4],[7,6],[8,0],[10,10],[12,3]]\n",
    "y_test = [[0],[0],[0],[0],[1],[1],[1],[1],[1]]\n",
    "x_val =[[6,5]]"
   ]
  },
  {
   "cell_type": "code",
   "execution_count": 16,
   "metadata": {},
   "outputs": [],
   "source": [
    "def dist(x1,x2):\n",
    "    return np.sqrt(np.square(x1[0]-x2[0]) + np.square(x1[1]-x2[1]))"
   ]
  },
  {
   "cell_type": "code",
   "execution_count": 17,
   "metadata": {},
   "outputs": [
    {
     "name": "stdout",
     "output_type": "stream",
     "text": [
      "[1. 2.]\n"
     ]
    }
   ],
   "source": [
    "# para k = 3\n",
    "k=3\n",
    "distances = [(0,0)]*numberSamples\n",
    "\n",
    "for i in range (numberSamples):\n",
    "    distance = dist(x_test[i],x_val[0])\n",
    "    distances[i] = (distance,i)\n",
    "    \n",
    "distances.sort(key=lambda tup: tup[0])\n",
    "\n",
    "count = np.zeros(numberClass)\n",
    "for i in range(k):\n",
    "    count[y_test[distances[i][1]]] = count[y_test[distances[i][1]]]+1\n",
    "\n",
    "print(count)\n"
   ]
  },
  {
   "cell_type": "code",
   "execution_count": 18,
   "metadata": {},
   "outputs": [
    {
     "name": "stdout",
     "output_type": "stream",
     "text": [
      "[3. 2.]\n"
     ]
    }
   ],
   "source": [
    "# para k = 5\n",
    "k=5\n",
    "distances = [(0,0)]*numberSamples\n",
    "\n",
    "for i in range (numberSamples):\n",
    "    distance = dist(x_test[i],x_val[0])\n",
    "    distances[i] = (distance,i)\n",
    "    \n",
    "distances.sort(key=lambda tup: tup[0])\n",
    "\n",
    "count = np.zeros(numberClass)\n",
    "for i in range(k):\n",
    "    count[y_test[distances[i][1]]] = count[y_test[distances[i][1]]]+1\n",
    "\n",
    "print(count)\n"
   ]
  },
  {
   "cell_type": "code",
   "execution_count": 19,
   "metadata": {},
   "outputs": [
    {
     "name": "stdout",
     "output_type": "stream",
     "text": [
      "Utilizando k = 3 a classe é: [1.]\n",
      "Utilizando k = 5 a classe é: [0.]\n"
     ]
    }
   ],
   "source": [
    "x = np.zeros((numberSamples,2))\n",
    "y = np.zeros((numberSamples,1))\n",
    "\n",
    "for i in range(numberSamples):\n",
    "    x[i] = x_test[i]\n",
    "    y[i] = y_test[i]\n",
    "y = y.ravel()\n",
    "    \n",
    "for k in [3,5]:\n",
    "    # Create an instance of Neighbours Classifier and fit the data.\n",
    "    clf = KNeighborsClassifier(k, weights='uniform')\n",
    "    # Train the classifier.\n",
    "    clf.fit(x,y)\n",
    "    \n",
    "    Z = clf.predict(x_val)\n",
    "    \n",
    "    print(\"Utilizando k = \" + str(k) + \" a classe é: \" + str(Z))\n"
   ]
  },
  {
   "cell_type": "code",
   "execution_count": null,
   "metadata": {},
   "outputs": [],
   "source": []
  }
 ],
 "metadata": {
  "kernelspec": {
   "display_name": "Python 3",
   "language": "python",
   "name": "python3"
  },
  "language_info": {
   "codemirror_mode": {
    "name": "ipython",
    "version": 3
   },
   "file_extension": ".py",
   "mimetype": "text/x-python",
   "name": "python",
   "nbconvert_exporter": "python",
   "pygments_lexer": "ipython3",
   "version": "3.8.3"
  }
 },
 "nbformat": 4,
 "nbformat_minor": 2
}
