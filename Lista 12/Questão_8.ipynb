{
 "cells": [
  {
   "cell_type": "code",
   "execution_count": 1,
   "metadata": {},
   "outputs": [],
   "source": [
    "import tensorflow as tf\n",
    "import numpy as np\n",
    "#import tfgraphviz as tfg\n",
    "from tensorboard import notebook"
   ]
  },
  {
   "cell_type": "code",
   "execution_count": 2,
   "metadata": {},
   "outputs": [],
   "source": [
    "# to make this notebook's output stable across runs\n",
    "def reset_graph(seed=42):\n",
    "    tf.reset_default_graph()\n",
    "    tf.set_random_seed(seed)\n",
    "    np.random.seed(seed)\n",
    "    \n",
    "def shuffle_batch(X, y, batch_size):\n",
    "    rnd_idx = np.random.permutation(len(X))\n",
    "    n_batches = len(X) // batch_size\n",
    "    for batch_idx in np.array_split(rnd_idx, n_batches):\n",
    "        X_batch, y_batch = X[batch_idx], y[batch_idx]\n",
    "        yield X_batch, y_batch"
   ]
  },
  {
   "cell_type": "code",
   "execution_count": 3,
   "metadata": {},
   "outputs": [],
   "source": [
    "reset_graph()\n",
    "\n",
    "n_inputs = 28*28 # MNIST\n",
    "n_hidden1 = 300\n",
    "n_hidden2 = 100\n",
    "n_outputs = 10"
   ]
  },
  {
   "cell_type": "code",
   "execution_count": 4,
   "metadata": {},
   "outputs": [],
   "source": [
    "(X_train, y_train), (X_test, y_test) = tf.keras.datasets.mnist.load_data()\n",
    "X_train = X_train.astype(np.float32).reshape(-1, 28*28) / 255.0\n",
    "X_test = X_test.astype(np.float32).reshape(-1, 28*28) / 255.0\n",
    "y_train = y_train.astype(np.int32)\n",
    "y_test = y_test.astype(np.int32)\n",
    "X_valid, X_train = X_train[:5000], X_train[5000:]\n",
    "y_valid, y_train = y_train[:5000], y_train[5000:]"
   ]
  },
  {
   "cell_type": "code",
   "execution_count": 5,
   "metadata": {},
   "outputs": [
    {
     "name": "stdout",
     "output_type": "stream",
     "text": [
      "WARNING:tensorflow:From <ipython-input-5-62a1239c3abf>:7: dense (from tensorflow.python.layers.core) is deprecated and will be removed in a future version.\n",
      "Instructions for updating:\n",
      "Use keras.layers.Dense instead.\n",
      "WARNING:tensorflow:From C:\\Users\\celso\\anaconda3\\envs\\tf1\\lib\\site-packages\\tensorflow_core\\python\\layers\\core.py:187: Layer.apply (from tensorflow.python.keras.engine.base_layer) is deprecated and will be removed in a future version.\n",
      "Instructions for updating:\n",
      "Please use `layer.__call__` method instead.\n"
     ]
    }
   ],
   "source": [
    "X = tf.placeholder(tf.float32, shape=(None, n_inputs), name=\"X\")\n",
    "y = tf.placeholder(tf.int64, shape=(None), name=\"y\")\n",
    "\n",
    "model = tf.keras.Sequential()\n",
    "\n",
    "with tf.name_scope(\"dnn\"):\n",
    "    hidden1 = tf.layers.dense(inputs=X, units=n_hidden1, activation=tf.nn.relu)\n",
    "    hidden2 = tf.layers.dense(inputs=hidden1, units=n_hidden2, activation=tf.nn.relu)\n",
    "    logits = tf.layers.dense(inputs=hidden2, units=n_outputs)\n",
    "    \n",
    "with tf.name_scope(\"loss\"):\n",
    "    xentropy = tf.nn.sparse_softmax_cross_entropy_with_logits(labels=y, logits=logits)\n",
    "    loss = tf.reduce_mean(xentropy, name=\"loss\")\n",
    "    \n",
    "learning_rate = 0.01\n",
    "\n",
    "with tf.name_scope(\"train\"):\n",
    "    optimizer = tf.train.GradientDescentOptimizer(learning_rate)\n",
    "    training_op = optimizer.minimize(loss)\n",
    "    \n",
    "with tf.name_scope(\"eval\"):\n",
    "    correct = tf.nn.in_top_k(logits, y, 1)\n",
    "    accuracy = tf.reduce_mean(tf.cast(correct, tf.float32))\n",
    "    \n",
    "init = tf.global_variables_initializer()\n",
    "saver = tf.train.Saver()"
   ]
  },
  {
   "cell_type": "code",
   "execution_count": 6,
   "metadata": {},
   "outputs": [
    {
     "name": "stdout",
     "output_type": "stream",
     "text": [
      "0 Train accuracy: 0.8996182 Test accuracy: 0.9028 Test error:  0.3538575\n",
      "1 Train accuracy: 0.9196 Test accuracy: 0.9252 Test error:  0.27321905\n",
      "2 Train accuracy: 0.93029094 Test accuracy: 0.9372 Test error:  0.23675342\n",
      "3 Train accuracy: 0.9381273 Test accuracy: 0.942 Test error:  0.21015103\n",
      "4 Train accuracy: 0.94330907 Test accuracy: 0.9472 Test error:  0.19060422\n",
      "5 Train accuracy: 0.9471273 Test accuracy: 0.9512 Test error:  0.17913444\n",
      "6 Train accuracy: 0.9525273 Test accuracy: 0.9548 Test error:  0.16226868\n",
      "7 Train accuracy: 0.9577091 Test accuracy: 0.9612 Test error:  0.15049107\n",
      "8 Train accuracy: 0.9606182 Test accuracy: 0.962 Test error:  0.14204995\n",
      "9 Train accuracy: 0.96334547 Test accuracy: 0.965 Test error:  0.1355148\n",
      "10 Train accuracy: 0.9665273 Test accuracy: 0.9654 Test error:  0.12784617\n",
      "11 Train accuracy: 0.968 Test accuracy: 0.9672 Test error:  0.121148646\n",
      "12 Train accuracy: 0.96918184 Test accuracy: 0.9682 Test error:  0.12020469\n",
      "13 Train accuracy: 0.9717636 Test accuracy: 0.9704 Test error:  0.112916835\n",
      "14 Train accuracy: 0.97376364 Test accuracy: 0.9696 Test error:  0.11044063\n",
      "15 Train accuracy: 0.97514546 Test accuracy: 0.9716 Test error:  0.10333596\n",
      "16 Train accuracy: 0.9765273 Test accuracy: 0.9726 Test error:  0.101083525\n",
      "17 Train accuracy: 0.9777455 Test accuracy: 0.9726 Test error:  0.09965319\n",
      "18 Train accuracy: 0.9792182 Test accuracy: 0.9748 Test error:  0.09388205\n",
      "19 Train accuracy: 0.9791273 Test accuracy: 0.9756 Test error:  0.09281384\n",
      "20 Train accuracy: 0.98121816 Test accuracy: 0.975 Test error:  0.09163023\n",
      "21 Train accuracy: 0.98196363 Test accuracy: 0.9732 Test error:  0.09078295\n",
      "22 Train accuracy: 0.98283637 Test accuracy: 0.975 Test error:  0.08737659\n",
      "23 Train accuracy: 0.9839636 Test accuracy: 0.9764 Test error:  0.08477253\n",
      "24 Train accuracy: 0.9848 Test accuracy: 0.976 Test error:  0.0832225\n",
      "25 Train accuracy: 0.98574543 Test accuracy: 0.9762 Test error:  0.08212562\n",
      "26 Train accuracy: 0.9863273 Test accuracy: 0.9766 Test error:  0.08060276\n",
      "27 Train accuracy: 0.9868 Test accuracy: 0.9774 Test error:  0.0790551\n",
      "28 Train accuracy: 0.98694545 Test accuracy: 0.978 Test error:  0.08045851\n",
      "29 Train accuracy: 0.9881455 Test accuracy: 0.9774 Test error:  0.076318495\n",
      "30 Train accuracy: 0.9877091 Test accuracy: 0.9774 Test error:  0.07887951\n",
      "31 Train accuracy: 0.9898546 Test accuracy: 0.9782 Test error:  0.075526804\n",
      "32 Train accuracy: 0.99038184 Test accuracy: 0.978 Test error:  0.07535977\n",
      "33 Train accuracy: 0.9903091 Test accuracy: 0.9784 Test error:  0.0745102\n",
      "34 Train accuracy: 0.9908 Test accuracy: 0.9782 Test error:  0.07326012\n",
      "35 Train accuracy: 0.99163634 Test accuracy: 0.978 Test error:  0.0741234\n",
      "36 Train accuracy: 0.99218184 Test accuracy: 0.979 Test error:  0.07258359\n",
      "37 Train accuracy: 0.9922364 Test accuracy: 0.9784 Test error:  0.07266679\n",
      "38 Train accuracy: 0.9929818 Test accuracy: 0.9796 Test error:  0.07028302\n",
      "39 Train accuracy: 0.99285454 Test accuracy: 0.9786 Test error:  0.07247292\n"
     ]
    }
   ],
   "source": [
    "n_epochs = 40\n",
    "batch_size = 50\n",
    "min_error = float(\"inf\")\n",
    "c_error = 0\n",
    "\n",
    "with tf.Session() as sess:\n",
    "    init.run()\n",
    "    for epoch in range(n_epochs):\n",
    "        for X_batch, y_batch in shuffle_batch(X_train, y_train, batch_size):\n",
    "            sess.run(training_op, feed_dict={X: X_batch, y: y_batch})\n",
    "        \n",
    "        acc_train = accuracy.eval(feed_dict={X: X_train, y: y_train})\n",
    "        acc_test = accuracy.eval(feed_dict={X: X_valid, y: y_valid})\n",
    "        error = loss.eval(feed_dict={X: X_valid, y: y_valid})\n",
    "        \n",
    "        if(error < min_error):\n",
    "            save_path = saver.save(sess, \"./my_model_finalv1.ckpt\")\n",
    "            min_error = error\n",
    "            c_error = 0\n",
    "        else:\n",
    "            c_error = c_error + 1\n",
    "            \n",
    "        if(c_error == 50 or min_error <1e-9):\n",
    "            break\n",
    "        \n",
    "        print(epoch, \"Train accuracy:\", acc_train, \"Test accuracy:\", acc_test, \"Test error: \", error)"
   ]
  },
  {
   "cell_type": "code",
   "execution_count": 7,
   "metadata": {},
   "outputs": [
    {
     "name": "stdout",
     "output_type": "stream",
     "text": [
      "INFO:tensorflow:Restoring parameters from ./my_model_finalv1.ckpt\n"
     ]
    }
   ],
   "source": [
    "with tf.Session() as sess:\n",
    "    saver.restore(sess, \"./my_model_finalv1.ckpt\") # or better, use save_path\n",
    "    X_new_scaled = X_test[:20]\n",
    "    Z = logits.eval(feed_dict={X: X_new_scaled})\n",
    "    y_pred = np.argmax(Z, axis=1)"
   ]
  },
  {
   "cell_type": "code",
   "execution_count": 8,
   "metadata": {},
   "outputs": [
    {
     "name": "stdout",
     "output_type": "stream",
     "text": [
      "Predicted classes: [7 2 1 0 4 1 4 9 5 9 0 6 9 0 1 5 9 7 3 4]\n",
      "Actual classes:    [7 2 1 0 4 1 4 9 5 9 0 6 9 0 1 5 9 7 3 4]\n"
     ]
    }
   ],
   "source": [
    "print(\"Predicted classes:\", y_pred)\n",
    "print(\"Actual classes:   \", y_test[:20])"
   ]
  },
  {
   "cell_type": "code",
   "execution_count": null,
   "metadata": {},
   "outputs": [],
   "source": []
  }
 ],
 "metadata": {
  "kernelspec": {
   "display_name": "Python 3",
   "language": "python",
   "name": "python3"
  },
  "language_info": {
   "codemirror_mode": {
    "name": "ipython",
    "version": 3
   },
   "file_extension": ".py",
   "mimetype": "text/x-python",
   "name": "python",
   "nbconvert_exporter": "python",
   "pygments_lexer": "ipython3",
   "version": "3.7.8"
  }
 },
 "nbformat": 4,
 "nbformat_minor": 2
}
