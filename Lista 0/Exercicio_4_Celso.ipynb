{
 "cells": [
  {
   "cell_type": "code",
   "execution_count": 11,
   "metadata": {},
   "outputs": [
    {
     "data": {
      "image/png": "[encoded data removed]",
      "text/plain": [
       "<Figure size 432x288 with 1 Axes>"
      ]
     },
     "metadata": {
      "needs_background": "light"
     },
     "output_type": "display_data"
    }
   ],
   "source": [
    "#Celso-26-tp555\n",
    "#código_desenvolvido_em_10/08/2020\n",
    "\n",
    "import matplotlib\n",
    "import numpy as np\n",
    "import matplotlib.pyplot as plt\n",
    "\n",
    "\n",
    "m = 10000 #amostras\n",
    "\n",
    "x = np.random.uniform(0,1,m)#vetordistribuçãouniforme\n",
    "y = np.random.uniform(0,1,m)#vetordistribuiçãouniforme\n",
    "\n",
    "z = x + y\n",
    "\n",
    "# histograma (pdf)\n",
    "plt.subplot(1, 2, 1)\n",
    "plt.title('Histograma Normalizado de Z')\n",
    "plt.hist(z , bins=100, density =True , color='r')\n",
    "\n",
    "plt.show()"
   ]
  },
  {
   "cell_type": "code",
   "execution_count": null,
   "metadata": {},
   "outputs": [],
   "source": []
  }
 ],
 "metadata": {
  "kernelspec": {
   "display_name": "Python 3",
   "language": "python",
   "name": "python3"
  },
  "language_info": {
   "codemirror_mode": {
    "name": "ipython",
    "version": 3
   },
   "file_extension": ".py",
   "mimetype": "text/x-python",
   "name": "python",
   "nbconvert_exporter": "python",
   "pygments_lexer": "ipython3",
   "version": "3.8.3"
  }
 },
 "nbformat": 4,
 "nbformat_minor": 4
}
