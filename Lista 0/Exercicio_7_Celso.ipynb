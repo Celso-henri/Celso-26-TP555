{
 "cells": [
  {
   "cell_type": "code",
   "execution_count": 16,
   "metadata": {},
   "outputs": [
    {
     "name": "stdout",
     "output_type": "stream",
     "text": [
      "Digite um valor de 0 a 30\n",
      "-1/sqrt(2) -j1/sqrt(2)\n"
     ]
    }
   ],
   "source": [
    "\n",
    "def modulator ():\n",
    "    number = input ('Digite um valor de 0 a 3')\n",
    "    if '0' in number:\n",
    "        print ('-1/sqrt(2) -j1/sqrt(2)')\n",
    "    if '1' in number:\n",
    "        print('-1/sqrt(2) + j1/sqrt(2)')\n",
    "    if '2' in number:\n",
    "        print ('1/sqrt(2) - j1/sqrt(2)')\n",
    "    if '3' in number:\n",
    "        print('1/sqrt(2) + j1/sqrt(2)')\n",
    "        \n",
    "modulator ()\n",
    "\n",
    "\n",
    "\n"
   ]
  },
  {
   "cell_type": "code",
   "execution_count": 17,
   "metadata": {},
   "outputs": [
    {
     "data": {
      "image/png": "[encoded data removed]",
      "text/plain": [
       "<Figure size 432x288 with 1 Axes>"
      ]
     },
     "metadata": {
      "needs_background": "light"
     },
     "output_type": "display_data"
    }
   ],
   "source": [
    "import numpy as np\n",
    "import matplotlib.pyplot as plt\n",
    "\n",
    "namostragemdesimbolos = 1000\n",
    "\n",
    "a = np.random.randint(0, 4, namostragemdesimbolos) \n",
    "\n",
    "\n",
    "modulator = a\n",
    "\n",
    "x_degrees = modulator*360/4.0 + 45 \n",
    "\n",
    "x_radians = x_degrees*np.pi/180.0 \n",
    "\n",
    "\n",
    "\n",
    "\n",
    "symbols = np.cos(x_radians) + 1j*np.sin(x_radians) \n",
    "\n",
    "\n",
    "plt.plot(np.real(symbols), np.imag(symbols), '.')\n",
    "\n",
    "plt.grid(True)\n",
    "\n",
    "plt.show()"
   ]
  },
  {
   "cell_type": "code",
   "execution_count": null,
   "metadata": {},
   "outputs": [],
   "source": []
  }
 ],
 "metadata": {
  "kernelspec": {
   "display_name": "Python 3",
   "language": "python",
   "name": "python3"
  },
  "language_info": {
   "codemirror_mode": {
    "name": "ipython",
    "version": 3
   },
   "file_extension": ".py",
   "mimetype": "text/x-python",
   "name": "python",
   "nbconvert_exporter": "python",
   "pygments_lexer": "ipython3",
   "version": "3.8.3"
  }
 },
 "nbformat": 4,
 "nbformat_minor": 4
}
