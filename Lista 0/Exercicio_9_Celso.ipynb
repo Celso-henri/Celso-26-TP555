{
 "cells": [
  {
   "cell_type": "code",
   "execution_count": 23,
   "metadata": {},
   "outputs": [],
   "source": [
    "import numpy as np\n",
    "import matplotlib.pyplot as plt\n",
    "\n",
    "from numpy import *\n",
    "from scipy.special import erfc\n",
    "import matplotlib.pyplot as plt\n",
    "\n",
    "\n",
    "\n",
    "namostragemdesimbolos = 1000000\n",
    "\n",
    "a = np.random.randint(0, 4, namostragemdesimbolos) \n",
    "\n",
    "\n",
    "modulator = a\n",
    "\n",
    "x_degrees = modulator*360/4.0 + 45 \n",
    "\n",
    "x_radians = x_degrees*np.pi/180.0 \n",
    "\n",
    "symbols = np.cos(x_radians) + 1j*np.sin(x_radians) \n",
    "\n",
    "n = (np.random.randn(num_symbols) + 1j*np.random.randn(num_symbols))/np.sqrt(2) \n",
    "\n",
    "noise_power = 0.01\n",
    "\n",
    "r = x_symbols + n * np.sqrt(noise_power)\n",
    "\n",
    "\n",
    "SNR_MIN     = 0\n",
    "SNR_MAX     = 9\n",
    "Eb_No_dB    = arange(SNR_MIN,SNR_MAX+1)\n",
    "SNR         = 10**(Eb_No_dB/10.0)\n",
    "\n",
    "\n"
   ]
  },
  {
   "cell_type": "code",
   "execution_count": null,
   "metadata": {},
   "outputs": [],
   "source": []
  }
 ],
 "metadata": {
  "kernelspec": {
   "display_name": "Python 3",
   "language": "python",
   "name": "python3"
  },
  "language_info": {
   "codemirror_mode": {
    "name": "ipython",
    "version": 3
   },
   "file_extension": ".py",
   "mimetype": "text/x-python",
   "name": "python",
   "nbconvert_exporter": "python",
   "pygments_lexer": "ipython3",
   "version": "3.8.3"
  }
 },
 "nbformat": 4,
 "nbformat_minor": 4
}
